{
 "cells": [
  {
   "cell_type": "code",
   "execution_count": 35,
   "metadata": {},
   "outputs": [],
   "source": [
    "import numpy as np\n",
    "import matplotlib.pyplot as plt\n",
    "from skimage import io\n",
    "\n",
    "skin = [[241, 211, 193], [232, 197, 176], [222, 179, 158], [236, 210, 194], [237, 204, 186], [237, 195, 177], [217, 187, 186], [214, 181, 179], [209, 176, 172], [243, 202, 202], [238, 193, 188], [226, 179, 175], [214, 192, 165], [211, 187, 157], [213, 184, 145], [247, 210, 194], [239, 199, 185], [207, 171, 163], [238, 212, 210], [236, 205, 202], [233, 197, 193], [240, 188, 176], [247, 195, 190], [225, 175, 166], [232, 206, 198]]\n",
    "eyebr = [[0, 0, 255], [150, 103, 76], [174, 125, 99], [0, 0, 255], [157, 119, 106], [184, 146, 131], [0, 0, 254], [82, 52, 37], [59, 34, 21], [0, 0, 255], [161, 122, 110], [146, 108, 97], [0, 0, 255], [218, 193, 166], [169, 127, 80], [0, 0, 254], [209, 168, 146], [199, 151, 126], [0, 0, 254], [119, 87, 95], [151, 111, 114], [0, 0, 254], [80, 54, 61], [113, 80, 84], [0, 0, 254]]\n",
    "eye = [[48, 32, 27], [187, 159, 149], [109, 90, 84], [41, 25, 36], [150, 117, 112], [182, 177, 177], [35, 23, 22], [134, 105, 102], [84, 67, 69], [51, 19, 15], [85, 53, 47], [144, 108, 101], [52, 35, 26], [87, 67, 52], [130, 105, 83], [206, 185, 179], [71, 58, 57], [113, 93, 93], [54, 47, 68], [198, 185, 200], [103, 85, 105], [42, 22, 29], [95, 72, 80], [145, 117, 126], [121, 98, 91]]\n",
    "mouth = [[0, 0, 254], [206, 77, 107], [233, 111, 139], [0, 0, 254], [239, 133, 126], [225, 107, 101], [0, 0, 255], [190, 119, 129], [200, 189, 197], [0, 0, 254], [185, 90, 98], [214, 120, 130], [0, 0, 255], [189, 107, 67], [215, 140, 107], [0, 0, 254], [239, 123, 135], [213, 94, 114], [0, 0, 255], [222, 105, 146], [223, 161, 174], [0, 0, 255], [237, 113, 142], [219, 90, 120], [0, 0, 254]]\n",
    "palette_skin = np.array(skin, dtype=np.uint8)\n",
    "palette_eyebr = np.array(eyebr, dtype=np.uint8)\n",
    "palette_eye = np.array(eye, dtype=np.uint8)\n",
    "palette_mouth = np.array(mouth, dtype=np.uint8)\n",
    "\n",
    "m, n = 4, 6\n",
    "\n",
    "\n"
   ]
  },
  {
   "cell_type": "code",
   "execution_count": 18,
   "metadata": {},
   "outputs": [
    {
     "data": {
      "text/plain": [
       "[array([ 0,  1,  2,  3,  4,  5,  6,  7,  8,  9, 10, 11, 12, 13, 14, 15, 16,\n",
       "        17, 18, 19, 20, 21, 22, 23, 24])]"
      ]
     },
     "execution_count": 18,
     "metadata": {},
     "output_type": "execute_result"
    }
   ],
   "source": [
    "indices = [np.arange(25)]\n",
    "indices"
   ]
  },
  {
   "cell_type": "code",
   "execution_count": 28,
   "metadata": {},
   "outputs": [
    {
     "name": "stderr",
     "output_type": "stream",
     "text": [
      "C:\\Program Files (x86)\\Microsoft Visual Studio\\Shared\\Anaconda3_64\\lib\\site-packages\\skimage\\io\\_plugins\\matplotlib_plugin.py:51: FutureWarning: Conversion of the second argument of issubdtype from `float` to `np.floating` is deprecated. In future, it will be treated as `np.float64 == np.dtype(float).type`.\n",
      "  out_of_range_float = (np.issubdtype(image.dtype, np.float) and\n",
      "C:\\Program Files (x86)\\Microsoft Visual Studio\\Shared\\Anaconda3_64\\lib\\site-packages\\matplotlib\\axes\\_base.py:1400: MatplotlibDeprecationWarning: The 'box-forced' keyword argument is deprecated since 2.2.\n",
      "  \" since 2.2.\", cbook.mplDeprecation)\n"
     ]
    },
    {
     "data": {
      "text/plain": [
       "<matplotlib.image.AxesImage at 0x24e2589a1d0>"
      ]
     },
     "execution_count": 28,
     "metadata": {},
     "output_type": "execute_result"
    },
    {
     "data": {
      "image/png": "[encoded data removed]",
      "text/plain": [
       "<Figure size 432x288 with 1 Axes>"
      ]
     },
     "metadata": {},
     "output_type": "display_data"
    }
   ],
   "source": [
    "io.imshow(palette_skin[indices])"
   ]
  },
  {
   "cell_type": "code",
   "execution_count": 57,
   "metadata": {},
   "outputs": [
    {
     "data": {
      "text/plain": [
       "[[1, 1, 253],\n",
       " [226, 192, 201],\n",
       " [210, 177, 183],\n",
       " [253, 222, 204],\n",
       " [249, 216, 200]]"
      ]
     },
     "execution_count": 57,
     "metadata": {},
     "output_type": "execute_result"
    }
   ],
   "source": [
    "leb_colors = [[1, 1, 253], [226, 192, 201], [210, 177, 183], [253, 222, 204], [249, 216, 200]]\n",
    "leb_colors"
   ]
  },
  {
   "cell_type": "code",
   "execution_count": 58,
   "metadata": {},
   "outputs": [
    {
     "data": {
      "text/plain": [
       "[[226, 192, 201], [210, 177, 183], [253, 222, 204], [249, 216, 200]]"
      ]
     },
     "execution_count": 58,
     "metadata": {},
     "output_type": "execute_result"
    }
   ],
   "source": [
    "from itertools import compress\n",
    "fil = [leb_colors[i][2] < 250 and leb_colors[i][0] > 10 for i in range(5)]\n",
    "list(compress(leb_colors, fil))"
   ]
  },
  {
   "cell_type": "code",
   "execution_count": 45,
   "metadata": {},
   "outputs": [
    {
     "data": {
      "text/plain": [
       "[True, False, False, False, False]"
      ]
     },
     "execution_count": 45,
     "metadata": {},
     "output_type": "execute_result"
    }
   ],
   "source": [
    "[leb_colors[i][2] > 250 and leb_colors[i][0] < 10 for i in range(5)]"
   ]
  },
  {
   "cell_type": "code",
   "execution_count": 2,
   "metadata": {},
   "outputs": [],
   "source": [
    "from sklearn.neighbors import NearestNeighbors\n",
    "import numpy as np"
   ]
  },
  {
   "cell_type": "code",
   "execution_count": 5,
   "metadata": {},
   "outputs": [
    {
     "data": {
      "text/plain": [
       "array([[0, 1],\n",
       "       [1, 0],\n",
       "       [2, 1],\n",
       "       [3, 4],\n",
       "       [4, 3],\n",
       "       [5, 4]], dtype=int64)"
      ]
     },
     "execution_count": 5,
     "metadata": {},
     "output_type": "execute_result"
    }
   ],
   "source": [
    "X = np.array([[-1, -1], [-2, -1], [-3, -2], [1, 1], [2, 1], [3, 2]])\n",
    "nbrs = NearestNeighbors(n_neighbors=2, algorithm='auto').fit(X)\n",
    "distances, indices = nbrs.kneighbors(X)\n",
    "indices"
   ]
  },
  {
   "cell_type": "code",
   "execution_count": 6,
   "metadata": {},
   "outputs": [
    {
     "data": {
      "text/plain": [
       "array([[0.        , 1.        ],\n",
       "       [0.        , 1.        ],\n",
       "       [0.        , 1.41421356],\n",
       "       [0.        , 1.        ],\n",
       "       [0.        , 1.        ],\n",
       "       [0.        , 1.41421356]])"
      ]
     },
     "execution_count": 6,
     "metadata": {},
     "output_type": "execute_result"
    }
   ],
   "source": [
    "distances"
   ]
  },
  {
   "cell_type": "code",
   "execution_count": 9,
   "metadata": {},
   "outputs": [
    {
     "name": "stdout",
     "output_type": "stream",
     "text": [
      "['10']\n"
     ]
    }
   ],
   "source": [
    "from sklearn.neighbors.nearest_centroid import NearestCentroid\n",
    "\n",
    "X = np.array([[-1, -1], [-2, -1], [-3, -2], [1, 1], [2, 1], [3, 2]])\n",
    "y = np.array([10, 11, 12, '2', '2', '2'])\n",
    "clf = NearestCentroid()\n",
    "clf.fit(X, y)\n",
    "NearestCentroid(metric='euclidean', shrink_threshold=None)\n",
    "print(clf.predict([[-0.8, -1]]))"
   ]
  },
  {
   "cell_type": "code",
   "execution_count": 11,
   "metadata": {},
   "outputs": [
    {
     "ename": "ValueError",
     "evalue": "only 2 non-keyword arguments accepted",
     "output_type": "error",
     "traceback": [
      "\u001b[1;31m---------------------------------------------------------------------------\u001b[0m",
      "\u001b[1;31mValueError\u001b[0m                                Traceback (most recent call last)",
      "\u001b[1;32m<ipython-input-11-c713103eefcd>\u001b[0m in \u001b[0;36m<module>\u001b[1;34m()\u001b[0m\n\u001b[0;32m      4\u001b[0m         \u001b[1;33m[\u001b[0m\u001b[1;33m[\u001b[0m\u001b[1;36m230.0\u001b[0m\u001b[1;33m,\u001b[0m \u001b[1;36m190.0\u001b[0m\u001b[1;33m,\u001b[0m \u001b[1;36m162.0\u001b[0m\u001b[1;33m]\u001b[0m\u001b[1;33m,\u001b[0m \u001b[1;33m[\u001b[0m\u001b[1;36m213.0\u001b[0m\u001b[1;33m,\u001b[0m \u001b[1;36m173.0\u001b[0m\u001b[1;33m,\u001b[0m \u001b[1;36m145.0\u001b[0m\u001b[1;33m]\u001b[0m\u001b[1;33m,\u001b[0m \u001b[1;33m[\u001b[0m\u001b[1;36m194.0\u001b[0m\u001b[1;33m,\u001b[0m \u001b[1;36m154.0\u001b[0m\u001b[1;33m,\u001b[0m \u001b[1;36m125.0\u001b[0m\u001b[1;33m]\u001b[0m\u001b[1;33m,\u001b[0m \u001b[1;33m[\u001b[0m\u001b[1;36m220.0\u001b[0m\u001b[1;33m,\u001b[0m \u001b[1;36m203.0\u001b[0m\u001b[1;33m,\u001b[0m \u001b[1;36m215.0\u001b[0m\u001b[1;33m]\u001b[0m\u001b[1;33m,\u001b[0m \u001b[1;33m[\u001b[0m\u001b[1;36m209.0\u001b[0m\u001b[1;33m,\u001b[0m \u001b[1;36m190.0\u001b[0m\u001b[1;33m,\u001b[0m \u001b[1;36m207.0\u001b[0m\u001b[1;33m]\u001b[0m\u001b[1;33m,\u001b[0m \u001b[1;33m[\u001b[0m\u001b[1;36m228.0\u001b[0m\u001b[1;33m,\u001b[0m \u001b[1;36m215.0\u001b[0m\u001b[1;33m,\u001b[0m \u001b[1;36m229.0\u001b[0m\u001b[1;33m]\u001b[0m\u001b[1;33m,\u001b[0m \u001b[1;33m[\u001b[0m\u001b[1;36m198.0\u001b[0m\u001b[1;33m,\u001b[0m \u001b[1;36m181.0\u001b[0m\u001b[1;33m,\u001b[0m \u001b[1;36m174.0\u001b[0m\u001b[1;33m]\u001b[0m\u001b[1;33m,\u001b[0m \u001b[1;33m[\u001b[0m\u001b[1;36m210.0\u001b[0m\u001b[1;33m,\u001b[0m \u001b[1;36m188.0\u001b[0m\u001b[1;33m,\u001b[0m \u001b[1;36m183.0\u001b[0m\u001b[1;33m]\u001b[0m\u001b[1;33m,\u001b[0m \u001b[1;33m[\u001b[0m\u001b[1;36m184.0\u001b[0m\u001b[1;33m,\u001b[0m \u001b[1;36m167.0\u001b[0m\u001b[1;33m,\u001b[0m \u001b[1;36m160.0\u001b[0m\u001b[1;33m]\u001b[0m\u001b[1;33m,\u001b[0m \u001b[1;33m[\u001b[0m\u001b[1;36m223.0\u001b[0m\u001b[1;33m,\u001b[0m \u001b[1;36m197.0\u001b[0m\u001b[1;33m,\u001b[0m \u001b[1;36m180.0\u001b[0m\u001b[1;33m]\u001b[0m\u001b[1;33m,\u001b[0m \u001b[1;33m[\u001b[0m\u001b[1;36m237.0\u001b[0m\u001b[1;33m,\u001b[0m \u001b[1;36m216.0\u001b[0m\u001b[1;33m,\u001b[0m \u001b[1;36m202.0\u001b[0m\u001b[1;33m]\u001b[0m\u001b[1;33m,\u001b[0m \u001b[1;33m[\u001b[0m\u001b[1;36m230.0\u001b[0m\u001b[1;33m,\u001b[0m \u001b[1;36m205.0\u001b[0m\u001b[1;33m,\u001b[0m \u001b[1;36m189.0\u001b[0m\u001b[1;33m]\u001b[0m\u001b[1;33m,\u001b[0m \u001b[1;33m[\u001b[0m\u001b[1;36m223.0\u001b[0m\u001b[1;33m,\u001b[0m \u001b[1;36m194.0\u001b[0m\u001b[1;33m,\u001b[0m \u001b[1;36m189.0\u001b[0m\u001b[1;33m]\u001b[0m\u001b[1;33m,\u001b[0m \u001b[1;33m[\u001b[0m\u001b[1;36m229.0\u001b[0m\u001b[1;33m,\u001b[0m \u001b[1;36m205.0\u001b[0m\u001b[1;33m,\u001b[0m \u001b[1;36m202.0\u001b[0m\u001b[1;33m]\u001b[0m\u001b[1;33m,\u001b[0m \u001b[1;33m[\u001b[0m\u001b[1;36m211.0\u001b[0m\u001b[1;33m,\u001b[0m \u001b[1;36m178.0\u001b[0m\u001b[1;33m,\u001b[0m \u001b[1;36m173.0\u001b[0m\u001b[1;33m]\u001b[0m\u001b[1;33m,\u001b[0m \u001b[1;33m[\u001b[0m\u001b[1;36m234.0\u001b[0m\u001b[1;33m,\u001b[0m \u001b[1;36m210.0\u001b[0m\u001b[1;33m,\u001b[0m \u001b[1;36m223.0\u001b[0m\u001b[1;33m]\u001b[0m\u001b[1;33m,\u001b[0m \u001b[1;33m[\u001b[0m\u001b[1;36m223.0\u001b[0m\u001b[1;33m,\u001b[0m \u001b[1;36m198.0\u001b[0m\u001b[1;33m,\u001b[0m \u001b[1;36m210.0\u001b[0m\u001b[1;33m]\u001b[0m\u001b[1;33m,\u001b[0m \u001b[1;33m[\u001b[0m\u001b[1;36m246.0\u001b[0m\u001b[1;33m,\u001b[0m \u001b[1;36m226.0\u001b[0m\u001b[1;33m,\u001b[0m \u001b[1;36m243.0\u001b[0m\u001b[1;33m]\u001b[0m\u001b[1;33m,\u001b[0m \u001b[1;33m[\u001b[0m\u001b[1;36m212.0\u001b[0m\u001b[1;33m,\u001b[0m \u001b[1;36m183.0\u001b[0m\u001b[1;33m,\u001b[0m \u001b[1;36m185.0\u001b[0m\u001b[1;33m]\u001b[0m\u001b[1;33m,\u001b[0m \u001b[1;33m[\u001b[0m\u001b[1;36m227.0\u001b[0m\u001b[1;33m,\u001b[0m \u001b[1;36m201.0\u001b[0m\u001b[1;33m,\u001b[0m \u001b[1;36m205.0\u001b[0m\u001b[1;33m]\u001b[0m\u001b[1;33m,\u001b[0m \u001b[1;33m[\u001b[0m\u001b[1;36m198.0\u001b[0m\u001b[1;33m,\u001b[0m \u001b[1;36m173.0\u001b[0m\u001b[1;33m,\u001b[0m \u001b[1;36m174.0\u001b[0m\u001b[1;33m]\u001b[0m\u001b[1;33m,\u001b[0m \u001b[1;33m[\u001b[0m\u001b[1;36m242.0\u001b[0m\u001b[1;33m,\u001b[0m \u001b[1;36m230.0\u001b[0m\u001b[1;33m,\u001b[0m \u001b[1;36m231.0\u001b[0m\u001b[1;33m]\u001b[0m\u001b[1;33m,\u001b[0m \u001b[1;33m[\u001b[0m\u001b[1;36m241.0\u001b[0m\u001b[1;33m,\u001b[0m \u001b[1;36m225.0\u001b[0m\u001b[1;33m,\u001b[0m \u001b[1;36m227.0\u001b[0m\u001b[1;33m]\u001b[0m\u001b[1;33m,\u001b[0m \u001b[1;33m[\u001b[0m\u001b[1;36m238.0\u001b[0m\u001b[1;33m,\u001b[0m \u001b[1;36m220.0\u001b[0m\u001b[1;33m,\u001b[0m \u001b[1;36m220.0\u001b[0m\u001b[1;33m]\u001b[0m\u001b[1;33m,\u001b[0m \u001b[1;33m[\u001b[0m\u001b[1;36m223.0\u001b[0m\u001b[1;33m,\u001b[0m \u001b[1;36m209.0\u001b[0m\u001b[1;33m,\u001b[0m \u001b[1;36m205.0\u001b[0m\u001b[1;33m]\u001b[0m\u001b[1;33m,\u001b[0m \u001b[1;33m[\u001b[0m\u001b[1;36m80.0\u001b[0m\u001b[1;33m,\u001b[0m \u001b[1;36m69.0\u001b[0m\u001b[1;33m,\u001b[0m \u001b[1;36m81.0\u001b[0m\u001b[1;33m]\u001b[0m\u001b[1;33m,\u001b[0m \u001b[1;33m[\u001b[0m\u001b[1;36m199.0\u001b[0m\u001b[1;33m,\u001b[0m \u001b[1;36m180.0\u001b[0m\u001b[1;33m,\u001b[0m \u001b[1;36m175.0\u001b[0m\u001b[1;33m]\u001b[0m\u001b[1;33m,\u001b[0m \u001b[1;33m[\u001b[0m\u001b[1;36m232.0\u001b[0m\u001b[1;33m,\u001b[0m \u001b[1;36m207.0\u001b[0m\u001b[1;33m,\u001b[0m \u001b[1;36m214.0\u001b[0m\u001b[1;33m]\u001b[0m\u001b[1;33m,\u001b[0m \u001b[1;33m[\u001b[0m\u001b[1;36m232.0\u001b[0m\u001b[1;33m,\u001b[0m \u001b[1;36m211.0\u001b[0m\u001b[1;33m,\u001b[0m \u001b[1;36m215.0\u001b[0m\u001b[1;33m]\u001b[0m\u001b[1;33m,\u001b[0m \u001b[1;33m[\u001b[0m\u001b[1;36m229.0\u001b[0m\u001b[1;33m,\u001b[0m \u001b[1;36m203.0\u001b[0m\u001b[1;33m,\u001b[0m \u001b[1;36m209.0\u001b[0m\u001b[1;33m]\u001b[0m\u001b[1;33m,\u001b[0m \u001b[1;33m[\u001b[0m\u001b[1;36m200.0\u001b[0m\u001b[1;33m,\u001b[0m \u001b[1;36m177.0\u001b[0m\u001b[1;33m,\u001b[0m \u001b[1;36m186.0\u001b[0m\u001b[1;33m]\u001b[0m\u001b[1;33m,\u001b[0m \u001b[1;33m[\u001b[0m\u001b[1;36m210.0\u001b[0m\u001b[1;33m,\u001b[0m \u001b[1;36m187.0\u001b[0m\u001b[1;33m,\u001b[0m \u001b[1;36m198.0\u001b[0m\u001b[1;33m]\u001b[0m\u001b[1;33m,\u001b[0m \u001b[1;33m[\u001b[0m\u001b[1;36m188.0\u001b[0m\u001b[1;33m,\u001b[0m \u001b[1;36m165.0\u001b[0m\u001b[1;33m,\u001b[0m \u001b[1;36m170.0\u001b[0m\u001b[1;33m]\u001b[0m\u001b[1;33m,\u001b[0m \u001b[1;33m[\u001b[0m\u001b[1;36m231.0\u001b[0m\u001b[1;33m,\u001b[0m \u001b[1;36m215.0\u001b[0m\u001b[1;33m,\u001b[0m \u001b[1;36m218.0\u001b[0m\u001b[1;33m]\u001b[0m\u001b[1;33m,\u001b[0m \u001b[1;33m[\u001b[0m\u001b[1;36m227.0\u001b[0m\u001b[1;33m,\u001b[0m \u001b[1;36m209.0\u001b[0m\u001b[1;33m,\u001b[0m \u001b[1;36m210.0\u001b[0m\u001b[1;33m]\u001b[0m\u001b[1;33m,\u001b[0m \u001b[1;33m[\u001b[0m\u001b[1;36m219.0\u001b[0m\u001b[1;33m,\u001b[0m \u001b[1;36m197.0\u001b[0m\u001b[1;33m,\u001b[0m \u001b[1;36m198.0\u001b[0m\u001b[1;33m]\u001b[0m\u001b[1;33m,\u001b[0m \u001b[1;33m[\u001b[0m\u001b[1;36m232.0\u001b[0m\u001b[1;33m,\u001b[0m \u001b[1;36m208.0\u001b[0m\u001b[1;33m,\u001b[0m \u001b[1;36m212.0\u001b[0m\u001b[1;33m]\u001b[0m\u001b[1;33m,\u001b[0m \u001b[1;33m[\u001b[0m\u001b[1;36m236.0\u001b[0m\u001b[1;33m,\u001b[0m \u001b[1;36m215.0\u001b[0m\u001b[1;33m,\u001b[0m \u001b[1;36m219.0\u001b[0m\u001b[1;33m]\u001b[0m\u001b[1;33m,\u001b[0m \u001b[1;33m[\u001b[0m\u001b[1;36m225.0\u001b[0m\u001b[1;33m,\u001b[0m \u001b[1;36m196.0\u001b[0m\u001b[1;33m,\u001b[0m \u001b[1;36m198.0\u001b[0m\u001b[1;33m]\u001b[0m\u001b[1;33m,\u001b[0m \u001b[1;33m[\u001b[0m\u001b[1;36m198.0\u001b[0m\u001b[1;33m,\u001b[0m \u001b[1;36m181.0\u001b[0m\u001b[1;33m,\u001b[0m \u001b[1;36m174.0\u001b[0m\u001b[1;33m]\u001b[0m\u001b[1;33m,\u001b[0m \u001b[1;33m[\u001b[0m\u001b[1;36m210.0\u001b[0m\u001b[1;33m,\u001b[0m \u001b[1;36m188.0\u001b[0m\u001b[1;33m,\u001b[0m \u001b[1;36m183.0\u001b[0m\u001b[1;33m]\u001b[0m\u001b[1;33m,\u001b[0m \u001b[1;33m[\u001b[0m\u001b[1;36m185.0\u001b[0m\u001b[1;33m,\u001b[0m \u001b[1;36m168.0\u001b[0m\u001b[1;33m,\u001b[0m \u001b[1;36m161.0\u001b[0m\u001b[1;33m]\u001b[0m\u001b[1;33m,\u001b[0m \u001b[1;33m[\u001b[0m\u001b[1;36m223.0\u001b[0m\u001b[1;33m,\u001b[0m \u001b[1;36m189.0\u001b[0m\u001b[1;33m,\u001b[0m \u001b[1;36m187.0\u001b[0m\u001b[1;33m]\u001b[0m\u001b[1;33m,\u001b[0m \u001b[1;33m[\u001b[0m\u001b[1;36m215.0\u001b[0m\u001b[1;33m,\u001b[0m \u001b[1;36m185.0\u001b[0m\u001b[1;33m,\u001b[0m \u001b[1;36m182.0\u001b[0m\u001b[1;33m]\u001b[0m\u001b[1;33m,\u001b[0m \u001b[1;33m[\u001b[0m\u001b[1;36m215.0\u001b[0m\u001b[1;33m,\u001b[0m \u001b[1;36m173.0\u001b[0m\u001b[1;33m,\u001b[0m \u001b[1;36m177.0\u001b[0m\u001b[1;33m]\u001b[0m\u001b[1;33m,\u001b[0m \u001b[1;33m[\u001b[0m\u001b[1;36m237.0\u001b[0m\u001b[1;33m,\u001b[0m \u001b[1;36m204.0\u001b[0m\u001b[1;33m,\u001b[0m \u001b[1;36m208.0\u001b[0m\u001b[1;33m]\u001b[0m\u001b[1;33m,\u001b[0m \u001b[1;33m[\u001b[0m\u001b[1;36m231.0\u001b[0m\u001b[1;33m,\u001b[0m \u001b[1;36m200.0\u001b[0m\u001b[1;33m,\u001b[0m \u001b[1;36m201.0\u001b[0m\u001b[1;33m]\u001b[0m\u001b[1;33m,\u001b[0m \u001b[1;33m[\u001b[0m\u001b[1;36m242.0\u001b[0m\u001b[1;33m,\u001b[0m \u001b[1;36m211.0\u001b[0m\u001b[1;33m,\u001b[0m \u001b[1;36m215.0\u001b[0m\u001b[1;33m]\u001b[0m\u001b[1;33m,\u001b[0m \u001b[1;33m[\u001b[0m\u001b[1;36m254.0\u001b[0m\u001b[1;33m,\u001b[0m \u001b[1;36m223.0\u001b[0m\u001b[1;33m,\u001b[0m \u001b[1;36m211.0\u001b[0m\u001b[1;33m]\u001b[0m\u001b[1;33m,\u001b[0m \u001b[1;33m[\u001b[0m\u001b[1;36m252.0\u001b[0m\u001b[1;33m,\u001b[0m \u001b[1;36m213.0\u001b[0m\u001b[1;33m,\u001b[0m \u001b[1;36m199.0\u001b[0m\u001b[1;33m]\u001b[0m\u001b[1;33m,\u001b[0m \u001b[1;33m[\u001b[0m\u001b[1;36m244.0\u001b[0m\u001b[1;33m,\u001b[0m \u001b[1;36m203.0\u001b[0m\u001b[1;33m,\u001b[0m \u001b[1;36m188.0\u001b[0m\u001b[1;33m]\u001b[0m\u001b[1;33m,\u001b[0m \u001b[1;33m[\u001b[0m\u001b[1;36m245.0\u001b[0m\u001b[1;33m,\u001b[0m \u001b[1;36m217.0\u001b[0m\u001b[1;33m,\u001b[0m \u001b[1;36m213.0\u001b[0m\u001b[1;33m]\u001b[0m\u001b[1;33m,\u001b[0m \u001b[1;33m[\u001b[0m\u001b[1;36m244.0\u001b[0m\u001b[1;33m,\u001b[0m \u001b[1;36m209.0\u001b[0m\u001b[1;33m,\u001b[0m \u001b[1;36m200.0\u001b[0m\u001b[1;33m]\u001b[0m\u001b[1;33m,\u001b[0m \u001b[1;33m[\u001b[0m\u001b[1;36m247.0\u001b[0m\u001b[1;33m,\u001b[0m \u001b[1;36m225.0\u001b[0m\u001b[1;33m,\u001b[0m \u001b[1;36m222.0\u001b[0m\u001b[1;33m]\u001b[0m\u001b[1;33m,\u001b[0m \u001b[1;33m[\u001b[0m\u001b[1;36m219.0\u001b[0m\u001b[1;33m,\u001b[0m \u001b[1;36m186.0\u001b[0m\u001b[1;33m,\u001b[0m \u001b[1;36m173.0\u001b[0m\u001b[1;33m]\u001b[0m\u001b[1;33m,\u001b[0m \u001b[1;33m[\u001b[0m\u001b[1;36m227.0\u001b[0m\u001b[1;33m,\u001b[0m \u001b[1;36m197.0\u001b[0m\u001b[1;33m,\u001b[0m \u001b[1;36m189.0\u001b[0m\u001b[1;33m]\u001b[0m\u001b[1;33m,\u001b[0m \u001b[1;33m[\u001b[0m\u001b[1;36m235.0\u001b[0m\u001b[1;33m,\u001b[0m \u001b[1;36m207.0\u001b[0m\u001b[1;33m,\u001b[0m \u001b[1;36m202.0\u001b[0m\u001b[1;33m]\u001b[0m\u001b[1;33m,\u001b[0m \u001b[1;33m[\u001b[0m\u001b[1;36m237.0\u001b[0m\u001b[1;33m,\u001b[0m \u001b[1;36m217.0\u001b[0m\u001b[1;33m,\u001b[0m \u001b[1;36m212.0\u001b[0m\u001b[1;33m]\u001b[0m\u001b[1;33m,\u001b[0m \u001b[1;33m[\u001b[0m\u001b[1;36m233.0\u001b[0m\u001b[1;33m,\u001b[0m \u001b[1;36m208.0\u001b[0m\u001b[1;33m,\u001b[0m \u001b[1;36m202.0\u001b[0m\u001b[1;33m]\u001b[0m\u001b[1;33m,\u001b[0m \u001b[1;33m[\u001b[0m\u001b[1;36m225.0\u001b[0m\u001b[1;33m,\u001b[0m \u001b[1;36m197.0\u001b[0m\u001b[1;33m,\u001b[0m \u001b[1;36m189.0\u001b[0m\u001b[1;33m]\u001b[0m\u001b[1;33m,\u001b[0m \u001b[1;33m[\u001b[0m\u001b[1;36m228.0\u001b[0m\u001b[1;33m,\u001b[0m \u001b[1;36m204.0\u001b[0m\u001b[1;33m,\u001b[0m \u001b[1;36m192.0\u001b[0m\u001b[1;33m]\u001b[0m\u001b[1;33m,\u001b[0m \u001b[1;33m[\u001b[0m\u001b[1;36m148.0\u001b[0m\u001b[1;33m,\u001b[0m \u001b[1;36m113.0\u001b[0m\u001b[1;33m,\u001b[0m \u001b[1;36m99.0\u001b[0m\u001b[1;33m]\u001b[0m\u001b[1;33m,\u001b[0m \u001b[1;33m[\u001b[0m\u001b[1;36m163.0\u001b[0m\u001b[1;33m,\u001b[0m \u001b[1;36m128.0\u001b[0m\u001b[1;33m,\u001b[0m \u001b[1;36m113.0\u001b[0m\u001b[1;33m]\u001b[0m\u001b[1;33m,\u001b[0m \u001b[1;33m[\u001b[0m\u001b[1;36m239.0\u001b[0m\u001b[1;33m,\u001b[0m \u001b[1;36m217.0\u001b[0m\u001b[1;33m,\u001b[0m \u001b[1;36m218.0\u001b[0m\u001b[1;33m]\u001b[0m\u001b[1;33m,\u001b[0m \u001b[1;33m[\u001b[0m\u001b[1;36m231.0\u001b[0m\u001b[1;33m,\u001b[0m \u001b[1;36m202.0\u001b[0m\u001b[1;33m,\u001b[0m \u001b[1;36m201.0\u001b[0m\u001b[1;33m]\u001b[0m\u001b[1;33m,\u001b[0m \u001b[1;33m[\u001b[0m\u001b[1;36m215.0\u001b[0m\u001b[1;33m,\u001b[0m \u001b[1;36m186.0\u001b[0m\u001b[1;33m,\u001b[0m \u001b[1;36m180.0\u001b[0m\u001b[1;33m]\u001b[0m\u001b[1;33m,\u001b[0m \u001b[1;33m[\u001b[0m\u001b[1;36m214.0\u001b[0m\u001b[1;33m,\u001b[0m \u001b[1;36m188.0\u001b[0m\u001b[1;33m,\u001b[0m \u001b[1;36m192.0\u001b[0m\u001b[1;33m]\u001b[0m\u001b[1;33m,\u001b[0m \u001b[1;33m[\u001b[0m\u001b[1;36m219.0\u001b[0m\u001b[1;33m,\u001b[0m \u001b[1;36m199.0\u001b[0m\u001b[1;33m,\u001b[0m \u001b[1;36m206.0\u001b[0m\u001b[1;33m]\u001b[0m\u001b[1;33m,\u001b[0m \u001b[1;33m[\u001b[0m\u001b[1;36m201.0\u001b[0m\u001b[1;33m,\u001b[0m \u001b[1;36m172.0\u001b[0m\u001b[1;33m,\u001b[0m \u001b[1;36m176.0\u001b[0m\u001b[1;33m]\u001b[0m\u001b[1;33m,\u001b[0m \u001b[1;33m[\u001b[0m\u001b[1;36m231.0\u001b[0m\u001b[1;33m,\u001b[0m \u001b[1;36m215.0\u001b[0m\u001b[1;33m,\u001b[0m \u001b[1;36m224.0\u001b[0m\u001b[1;33m]\u001b[0m\u001b[1;33m,\u001b[0m \u001b[1;33m[\u001b[0m\u001b[1;36m222.0\u001b[0m\u001b[1;33m,\u001b[0m \u001b[1;36m199.0\u001b[0m\u001b[1;33m,\u001b[0m \u001b[1;36m204.0\u001b[0m\u001b[1;33m]\u001b[0m\u001b[1;33m,\u001b[0m \u001b[1;33m[\u001b[0m\u001b[1;36m217.0\u001b[0m\u001b[1;33m,\u001b[0m \u001b[1;36m191.0\u001b[0m\u001b[1;33m,\u001b[0m \u001b[1;36m195.0\u001b[0m\u001b[1;33m]\u001b[0m\u001b[1;33m,\u001b[0m \u001b[1;33m[\u001b[0m\u001b[1;36m251.0\u001b[0m\u001b[1;33m,\u001b[0m \u001b[1;36m242.0\u001b[0m\u001b[1;33m,\u001b[0m \u001b[1;36m239.0\u001b[0m\u001b[1;33m]\u001b[0m\u001b[1;33m,\u001b[0m \u001b[1;33m[\u001b[0m\u001b[1;36m243.0\u001b[0m\u001b[1;33m,\u001b[0m \u001b[1;36m230.0\u001b[0m\u001b[1;33m,\u001b[0m \u001b[1;36m229.0\u001b[0m\u001b[1;33m]\u001b[0m\u001b[1;33m,\u001b[0m \u001b[1;33m[\u001b[0m\u001b[1;36m232.0\u001b[0m\u001b[1;33m,\u001b[0m \u001b[1;36m219.0\u001b[0m\u001b[1;33m,\u001b[0m \u001b[1;36m216.0\u001b[0m\u001b[1;33m]\u001b[0m\u001b[1;33m]\u001b[0m\u001b[1;33m,\u001b[0m\u001b[1;33m\u001b[0m\u001b[0m\n\u001b[0;32m      5\u001b[0m         \u001b[1;33m[\u001b[0m\u001b[1;33m[\u001b[0m\u001b[1;36m236.0\u001b[0m\u001b[1;33m,\u001b[0m \u001b[1;36m215.0\u001b[0m\u001b[1;33m,\u001b[0m \u001b[1;36m204.0\u001b[0m\u001b[1;33m]\u001b[0m\u001b[1;33m,\u001b[0m \u001b[1;33m[\u001b[0m\u001b[1;36m230.0\u001b[0m\u001b[1;33m,\u001b[0m \u001b[1;36m201.0\u001b[0m\u001b[1;33m,\u001b[0m \u001b[1;36m190.0\u001b[0m\u001b[1;33m]\u001b[0m\u001b[1;33m,\u001b[0m \u001b[1;33m[\u001b[0m\u001b[1;36m242.0\u001b[0m\u001b[1;33m,\u001b[0m \u001b[1;36m224.0\u001b[0m\u001b[1;33m,\u001b[0m \u001b[1;36m216.0\u001b[0m\u001b[1;33m]\u001b[0m\u001b[1;33m,\u001b[0m \u001b[1;33m[\u001b[0m\u001b[1;36m240.0\u001b[0m\u001b[1;33m,\u001b[0m \u001b[1;36m211.0\u001b[0m\u001b[1;33m,\u001b[0m \u001b[1;36m197.0\u001b[0m\u001b[1;33m]\u001b[0m\u001b[1;33m,\u001b[0m \u001b[1;33m[\u001b[0m\u001b[1;36m222.0\u001b[0m\u001b[1;33m,\u001b[0m \u001b[1;36m185.0\u001b[0m\u001b[1;33m,\u001b[0m \u001b[1;36m166.0\u001b[0m\u001b[1;33m]\u001b[0m\u001b[1;33m,\u001b[0m \u001b[1;33m[\u001b[0m\u001b[1;36m192.0\u001b[0m\u001b[1;33m,\u001b[0m \u001b[1;36m148.0\u001b[0m\u001b[1;33m,\u001b[0m \u001b[1;36m127.0\u001b[0m\u001b[1;33m]\u001b[0m\u001b[1;33m,\u001b[0m \u001b[1;33m[\u001b[0m\u001b[1;36m238.0\u001b[0m\u001b[1;33m,\u001b[0m \u001b[1;36m210.0\u001b[0m\u001b[1;33m,\u001b[0m \u001b[1;36m196.0\u001b[0m\u001b[1;33m]\u001b[0m\u001b[1;33m,\u001b[0m \u001b[1;33m[\u001b[0m\u001b[1;36m228.0\u001b[0m\u001b[1;33m,\u001b[0m \u001b[1;36m199.0\u001b[0m\u001b[1;33m,\u001b[0m \u001b[1;36m181.0\u001b[0m\u001b[1;33m]\u001b[0m\u001b[1;33m,\u001b[0m \u001b[1;33m[\u001b[0m\u001b[1;36m214.0\u001b[0m\u001b[1;33m,\u001b[0m \u001b[1;36m183.0\u001b[0m\u001b[1;33m,\u001b[0m \u001b[1;36m163.0\u001b[0m\u001b[1;33m]\u001b[0m\u001b[1;33m,\u001b[0m \u001b[1;33m[\u001b[0m\u001b[1;36m247.0\u001b[0m\u001b[1;33m,\u001b[0m \u001b[1;36m227.0\u001b[0m\u001b[1;33m,\u001b[0m \u001b[1;36m212.0\u001b[0m\u001b[1;33m]\u001b[0m\u001b[1;33m,\u001b[0m \u001b[1;33m[\u001b[0m\u001b[1;36m243.0\u001b[0m\u001b[1;33m,\u001b[0m \u001b[1;36m214.0\u001b[0m\u001b[1;33m,\u001b[0m \u001b[1;36m194.0\u001b[0m\u001b[1;33m]\u001b[0m\u001b[1;33m,\u001b[0m \u001b[1;33m[\u001b[0m\u001b[1;36m240.0\u001b[0m\u001b[1;33m,\u001b[0m \u001b[1;36m202.0\u001b[0m\u001b[1;33m,\u001b[0m \u001b[1;36m176.0\u001b[0m\u001b[1;33m]\u001b[0m\u001b[1;33m,\u001b[0m \u001b[1;33m[\u001b[0m\u001b[1;36m222.0\u001b[0m\u001b[1;33m,\u001b[0m \u001b[1;36m184.0\u001b[0m\u001b[1;33m,\u001b[0m \u001b[1;36m166.0\u001b[0m\u001b[1;33m]\u001b[0m\u001b[1;33m,\u001b[0m \u001b[1;33m[\u001b[0m\u001b[1;36m221.0\u001b[0m\u001b[1;33m,\u001b[0m \u001b[1;36m180.0\u001b[0m\u001b[1;33m,\u001b[0m \u001b[1;36m158.0\u001b[0m\u001b[1;33m]\u001b[0m\u001b[1;33m,\u001b[0m \u001b[1;33m[\u001b[0m\u001b[1;36m226.0\u001b[0m\u001b[1;33m,\u001b[0m \u001b[1;36m188.0\u001b[0m\u001b[1;33m,\u001b[0m \u001b[1;36m173.0\u001b[0m\u001b[1;33m]\u001b[0m\u001b[1;33m,\u001b[0m \u001b[1;33m[\u001b[0m\u001b[1;36m233.0\u001b[0m\u001b[1;33m,\u001b[0m \u001b[1;36m196.0\u001b[0m\u001b[1;33m,\u001b[0m \u001b[1;36m175.0\u001b[0m\u001b[1;33m]\u001b[0m\u001b[1;33m,\u001b[0m \u001b[1;33m[\u001b[0m\u001b[1;36m226.0\u001b[0m\u001b[1;33m,\u001b[0m \u001b[1;36m187.0\u001b[0m\u001b[1;33m,\u001b[0m \u001b[1;36m165.0\u001b[0m\u001b[1;33m]\u001b[0m\u001b[1;33m,\u001b[0m \u001b[1;33m[\u001b[0m\u001b[1;36m219.0\u001b[0m\u001b[1;33m,\u001b[0m \u001b[1;36m177.0\u001b[0m\u001b[1;33m,\u001b[0m \u001b[1;36m155.0\u001b[0m\u001b[1;33m]\u001b[0m\u001b[1;33m,\u001b[0m \u001b[1;33m[\u001b[0m\u001b[1;36m232.0\u001b[0m\u001b[1;33m,\u001b[0m \u001b[1;36m202.0\u001b[0m\u001b[1;33m,\u001b[0m \u001b[1;36m192.0\u001b[0m\u001b[1;33m]\u001b[0m\u001b[1;33m,\u001b[0m \u001b[1;33m[\u001b[0m\u001b[1;36m238.0\u001b[0m\u001b[1;33m,\u001b[0m \u001b[1;36m219.0\u001b[0m\u001b[1;33m,\u001b[0m \u001b[1;36m210.0\u001b[0m\u001b[1;33m]\u001b[0m\u001b[1;33m,\u001b[0m \u001b[1;33m[\u001b[0m\u001b[1;36m210.0\u001b[0m\u001b[1;33m,\u001b[0m \u001b[1;36m158.0\u001b[0m\u001b[1;33m,\u001b[0m \u001b[1;36m146.0\u001b[0m\u001b[1;33m]\u001b[0m\u001b[1;33m,\u001b[0m \u001b[1;33m[\u001b[0m\u001b[1;36m235.0\u001b[0m\u001b[1;33m,\u001b[0m \u001b[1;36m192.0\u001b[0m\u001b[1;33m,\u001b[0m \u001b[1;36m192.0\u001b[0m\u001b[1;33m]\u001b[0m\u001b[1;33m,\u001b[0m \u001b[1;33m[\u001b[0m\u001b[1;36m247.0\u001b[0m\u001b[1;33m,\u001b[0m \u001b[1;36m215.0\u001b[0m\u001b[1;33m,\u001b[0m \u001b[1;36m214.0\u001b[0m\u001b[1;33m]\u001b[0m\u001b[1;33m,\u001b[0m \u001b[1;33m[\u001b[0m\u001b[1;36m217.0\u001b[0m\u001b[1;33m,\u001b[0m \u001b[1;36m164.0\u001b[0m\u001b[1;33m,\u001b[0m \u001b[1;36m164.0\u001b[0m\u001b[1;33m]\u001b[0m\u001b[1;33m,\u001b[0m \u001b[1;33m[\u001b[0m\u001b[1;36m236.0\u001b[0m\u001b[1;33m,\u001b[0m \u001b[1;36m203.0\u001b[0m\u001b[1;33m,\u001b[0m \u001b[1;36m187.0\u001b[0m\u001b[1;33m]\u001b[0m\u001b[1;33m,\u001b[0m \u001b[1;33m[\u001b[0m\u001b[1;36m240.0\u001b[0m\u001b[1;33m,\u001b[0m \u001b[1;36m210.0\u001b[0m\u001b[1;33m,\u001b[0m \u001b[1;36m195.0\u001b[0m\u001b[1;33m]\u001b[0m\u001b[1;33m,\u001b[0m \u001b[1;33m[\u001b[0m\u001b[1;36m234.0\u001b[0m\u001b[1;33m,\u001b[0m \u001b[1;36m199.0\u001b[0m\u001b[1;33m,\u001b[0m \u001b[1;36m180.0\u001b[0m\u001b[1;33m]\u001b[0m\u001b[1;33m,\u001b[0m \u001b[1;33m[\u001b[0m\u001b[1;36m193.0\u001b[0m\u001b[1;33m,\u001b[0m \u001b[1;36m150.0\u001b[0m\u001b[1;33m,\u001b[0m \u001b[1;36m131.0\u001b[0m\u001b[1;33m]\u001b[0m\u001b[1;33m,\u001b[0m \u001b[1;33m[\u001b[0m\u001b[1;36m188.0\u001b[0m\u001b[1;33m,\u001b[0m \u001b[1;36m139.0\u001b[0m\u001b[1;33m,\u001b[0m \u001b[1;36m117.0\u001b[0m\u001b[1;33m]\u001b[0m\u001b[1;33m,\u001b[0m \u001b[1;33m[\u001b[0m\u001b[1;36m192.0\u001b[0m\u001b[1;33m,\u001b[0m \u001b[1;36m145.0\u001b[0m\u001b[1;33m,\u001b[0m \u001b[1;36m124.0\u001b[0m\u001b[1;33m]\u001b[0m\u001b[1;33m,\u001b[0m \u001b[1;33m[\u001b[0m\u001b[1;36m213.0\u001b[0m\u001b[1;33m,\u001b[0m \u001b[1;36m186.0\u001b[0m\u001b[1;33m,\u001b[0m \u001b[1;36m170.0\u001b[0m\u001b[1;33m]\u001b[0m\u001b[1;33m,\u001b[0m \u001b[1;33m[\u001b[0m\u001b[1;36m201.0\u001b[0m\u001b[1;33m,\u001b[0m \u001b[1;36m171.0\u001b[0m\u001b[1;33m,\u001b[0m \u001b[1;36m153.0\u001b[0m\u001b[1;33m]\u001b[0m\u001b[1;33m,\u001b[0m \u001b[1;33m[\u001b[0m\u001b[1;36m220.0\u001b[0m\u001b[1;33m,\u001b[0m \u001b[1;36m199.0\u001b[0m\u001b[1;33m,\u001b[0m \u001b[1;36m186.0\u001b[0m\u001b[1;33m]\u001b[0m\u001b[1;33m,\u001b[0m \u001b[1;33m[\u001b[0m\u001b[1;36m245.0\u001b[0m\u001b[1;33m,\u001b[0m \u001b[1;36m210.0\u001b[0m\u001b[1;33m,\u001b[0m \u001b[1;36m183.0\u001b[0m\u001b[1;33m]\u001b[0m\u001b[1;33m,\u001b[0m \u001b[1;33m[\u001b[0m\u001b[1;36m230.0\u001b[0m\u001b[1;33m,\u001b[0m \u001b[1;36m192.0\u001b[0m\u001b[1;33m,\u001b[0m \u001b[1;36m163.0\u001b[0m\u001b[1;33m]\u001b[0m\u001b[1;33m,\u001b[0m \u001b[1;33m[\u001b[0m\u001b[1;36m210.0\u001b[0m\u001b[1;33m,\u001b[0m \u001b[1;36m173.0\u001b[0m\u001b[1;33m,\u001b[0m \u001b[1;36m146.0\u001b[0m\u001b[1;33m]\u001b[0m\u001b[1;33m,\u001b[0m \u001b[1;33m[\u001b[0m\u001b[1;36m224.0\u001b[0m\u001b[1;33m,\u001b[0m \u001b[1;36m172.0\u001b[0m\u001b[1;33m,\u001b[0m \u001b[1;36m132.0\u001b[0m\u001b[1;33m]\u001b[0m\u001b[1;33m,\u001b[0m \u001b[1;33m[\u001b[0m\u001b[1;36m222.0\u001b[0m\u001b[1;33m,\u001b[0m \u001b[1;36m168.0\u001b[0m\u001b[1;33m,\u001b[0m \u001b[1;36m128.0\u001b[0m\u001b[1;33m]\u001b[0m\u001b[1;33m,\u001b[0m \u001b[1;33m[\u001b[0m\u001b[1;36m220.0\u001b[0m\u001b[1;33m,\u001b[0m \u001b[1;36m164.0\u001b[0m\u001b[1;33m,\u001b[0m \u001b[1;36m122.0\u001b[0m\u001b[1;33m]\u001b[0m\u001b[1;33m,\u001b[0m \u001b[1;33m[\u001b[0m\u001b[1;36m201.0\u001b[0m\u001b[1;33m,\u001b[0m \u001b[1;36m177.0\u001b[0m\u001b[1;33m,\u001b[0m \u001b[1;36m171.0\u001b[0m\u001b[1;33m]\u001b[0m\u001b[1;33m,\u001b[0m \u001b[1;33m[\u001b[0m\u001b[1;36m192.0\u001b[0m\u001b[1;33m,\u001b[0m \u001b[1;36m161.0\u001b[0m\u001b[1;33m,\u001b[0m \u001b[1;36m152.0\u001b[0m\u001b[1;33m]\u001b[0m\u001b[1;33m,\u001b[0m \u001b[1;33m[\u001b[0m\u001b[1;36m177.0\u001b[0m\u001b[1;33m,\u001b[0m \u001b[1;36m144.0\u001b[0m\u001b[1;33m,\u001b[0m \u001b[1;36m133.0\u001b[0m\u001b[1;33m]\u001b[0m\u001b[1;33m,\u001b[0m \u001b[1;33m[\u001b[0m\u001b[1;36m244.0\u001b[0m\u001b[1;33m,\u001b[0m \u001b[1;36m203.0\u001b[0m\u001b[1;33m,\u001b[0m \u001b[1;36m179.0\u001b[0m\u001b[1;33m]\u001b[0m\u001b[1;33m,\u001b[0m \u001b[1;33m[\u001b[0m\u001b[1;36m246.0\u001b[0m\u001b[1;33m,\u001b[0m \u001b[1;36m212.0\u001b[0m\u001b[1;33m,\u001b[0m \u001b[1;36m195.0\u001b[0m\u001b[1;33m]\u001b[0m\u001b[1;33m,\u001b[0m \u001b[1;33m[\u001b[0m\u001b[1;36m235.0\u001b[0m\u001b[1;33m,\u001b[0m \u001b[1;36m190.0\u001b[0m\u001b[1;33m,\u001b[0m \u001b[1;36m165.0\u001b[0m\u001b[1;33m]\u001b[0m\u001b[1;33m,\u001b[0m \u001b[1;33m[\u001b[0m\u001b[1;36m204.0\u001b[0m\u001b[1;33m,\u001b[0m \u001b[1;36m154.0\u001b[0m\u001b[1;33m,\u001b[0m \u001b[1;36m131.0\u001b[0m\u001b[1;33m]\u001b[0m\u001b[1;33m,\u001b[0m \u001b[1;33m[\u001b[0m\u001b[1;36m218.0\u001b[0m\u001b[1;33m,\u001b[0m \u001b[1;36m174.0\u001b[0m\u001b[1;33m,\u001b[0m \u001b[1;36m155.0\u001b[0m\u001b[1;33m]\u001b[0m\u001b[1;33m,\u001b[0m \u001b[1;33m[\u001b[0m\u001b[1;36m186.0\u001b[0m\u001b[1;33m,\u001b[0m \u001b[1;36m129.0\u001b[0m\u001b[1;33m,\u001b[0m \u001b[1;36m104.0\u001b[0m\u001b[1;33m]\u001b[0m\u001b[1;33m,\u001b[0m \u001b[1;33m[\u001b[0m\u001b[1;36m246.0\u001b[0m\u001b[1;33m,\u001b[0m \u001b[1;36m197.0\u001b[0m\u001b[1;33m,\u001b[0m \u001b[1;36m179.0\u001b[0m\u001b[1;33m]\u001b[0m\u001b[1;33m,\u001b[0m \u001b[1;33m[\u001b[0m\u001b[1;36m233.0\u001b[0m\u001b[1;33m,\u001b[0m \u001b[1;36m182.0\u001b[0m\u001b[1;33m,\u001b[0m \u001b[1;36m162.0\u001b[0m\u001b[1;33m]\u001b[0m\u001b[1;33m,\u001b[0m \u001b[1;33m[\u001b[0m\u001b[1;36m79.0\u001b[0m\u001b[1;33m,\u001b[0m \u001b[1;36m41.0\u001b[0m\u001b[1;33m,\u001b[0m \u001b[1;36m20.0\u001b[0m\u001b[1;33m]\u001b[0m\u001b[1;33m,\u001b[0m \u001b[1;33m[\u001b[0m\u001b[1;36m245.0\u001b[0m\u001b[1;33m,\u001b[0m \u001b[1;36m189.0\u001b[0m\u001b[1;33m,\u001b[0m \u001b[1;36m166.0\u001b[0m\u001b[1;33m]\u001b[0m\u001b[1;33m,\u001b[0m \u001b[1;33m[\u001b[0m\u001b[1;36m239.0\u001b[0m\u001b[1;33m,\u001b[0m \u001b[1;36m182.0\u001b[0m\u001b[1;33m,\u001b[0m \u001b[1;36m156.0\u001b[0m\u001b[1;33m]\u001b[0m\u001b[1;33m,\u001b[0m \u001b[1;33m[\u001b[0m\u001b[1;36m229.0\u001b[0m\u001b[1;33m,\u001b[0m \u001b[1;36m171.0\u001b[0m\u001b[1;33m,\u001b[0m \u001b[1;36m145.0\u001b[0m\u001b[1;33m]\u001b[0m\u001b[1;33m,\u001b[0m \u001b[1;33m[\u001b[0m\u001b[1;36m225.0\u001b[0m\u001b[1;33m,\u001b[0m \u001b[1;36m187.0\u001b[0m\u001b[1;33m,\u001b[0m \u001b[1;36m163.0\u001b[0m\u001b[1;33m]\u001b[0m\u001b[1;33m,\u001b[0m \u001b[1;33m[\u001b[0m\u001b[1;36m210.0\u001b[0m\u001b[1;33m,\u001b[0m \u001b[1;36m167.0\u001b[0m\u001b[1;33m,\u001b[0m \u001b[1;36m143.0\u001b[0m\u001b[1;33m]\u001b[0m\u001b[1;33m,\u001b[0m \u001b[1;33m[\u001b[0m\u001b[1;36m171.0\u001b[0m\u001b[1;33m,\u001b[0m \u001b[1;36m123.0\u001b[0m\u001b[1;33m,\u001b[0m \u001b[1;36m102.0\u001b[0m\u001b[1;33m]\u001b[0m\u001b[1;33m,\u001b[0m \u001b[1;33m[\u001b[0m\u001b[1;36m239.0\u001b[0m\u001b[1;33m,\u001b[0m \u001b[1;36m186.0\u001b[0m\u001b[1;33m,\u001b[0m \u001b[1;36m149.0\u001b[0m\u001b[1;33m]\u001b[0m\u001b[1;33m,\u001b[0m \u001b[1;33m[\u001b[0m\u001b[1;36m250.0\u001b[0m\u001b[1;33m,\u001b[0m \u001b[1;36m198.0\u001b[0m\u001b[1;33m,\u001b[0m \u001b[1;36m164.0\u001b[0m\u001b[1;33m]\u001b[0m\u001b[1;33m,\u001b[0m \u001b[1;33m[\u001b[0m\u001b[1;36m254.0\u001b[0m\u001b[1;33m,\u001b[0m \u001b[1;36m213.0\u001b[0m\u001b[1;33m,\u001b[0m \u001b[1;36m186.0\u001b[0m\u001b[1;33m]\u001b[0m\u001b[1;33m,\u001b[0m \u001b[1;33m[\u001b[0m\u001b[1;36m230.0\u001b[0m\u001b[1;33m,\u001b[0m \u001b[1;36m197.0\u001b[0m\u001b[1;33m,\u001b[0m \u001b[1;36m182.0\u001b[0m\u001b[1;33m]\u001b[0m\u001b[1;33m,\u001b[0m \u001b[1;33m[\u001b[0m\u001b[1;36m244.0\u001b[0m\u001b[1;33m,\u001b[0m \u001b[1;36m214.0\u001b[0m\u001b[1;33m,\u001b[0m \u001b[1;36m205.0\u001b[0m\u001b[1;33m]\u001b[0m\u001b[1;33m,\u001b[0m \u001b[1;33m[\u001b[0m\u001b[1;36m208.0\u001b[0m\u001b[1;33m,\u001b[0m \u001b[1;36m172.0\u001b[0m\u001b[1;33m,\u001b[0m \u001b[1;36m159.0\u001b[0m\u001b[1;33m]\u001b[0m\u001b[1;33m,\u001b[0m \u001b[1;33m[\u001b[0m\u001b[1;36m247.0\u001b[0m\u001b[1;33m,\u001b[0m \u001b[1;36m212.0\u001b[0m\u001b[1;33m,\u001b[0m \u001b[1;36m191.0\u001b[0m\u001b[1;33m]\u001b[0m\u001b[1;33m,\u001b[0m \u001b[1;33m[\u001b[0m\u001b[1;36m219.0\u001b[0m\u001b[1;33m,\u001b[0m \u001b[1;36m181.0\u001b[0m\u001b[1;33m,\u001b[0m \u001b[1;36m160.0\u001b[0m\u001b[1;33m]\u001b[0m\u001b[1;33m,\u001b[0m \u001b[1;33m[\u001b[0m\u001b[1;36m178.0\u001b[0m\u001b[1;33m,\u001b[0m \u001b[1;36m139.0\u001b[0m\u001b[1;33m,\u001b[0m \u001b[1;36m117.0\u001b[0m\u001b[1;33m]\u001b[0m\u001b[1;33m,\u001b[0m \u001b[1;33m[\u001b[0m\u001b[1;36m237.0\u001b[0m\u001b[1;33m,\u001b[0m \u001b[1;36m209.0\u001b[0m\u001b[1;33m,\u001b[0m \u001b[1;36m203.0\u001b[0m\u001b[1;33m]\u001b[0m\u001b[1;33m,\u001b[0m \u001b[1;33m[\u001b[0m\u001b[1;36m226.0\u001b[0m\u001b[1;33m,\u001b[0m \u001b[1;36m189.0\u001b[0m\u001b[1;33m,\u001b[0m \u001b[1;36m178.0\u001b[0m\u001b[1;33m]\u001b[0m\u001b[1;33m,\u001b[0m \u001b[1;33m[\u001b[0m\u001b[1;36m210.0\u001b[0m\u001b[1;33m,\u001b[0m \u001b[1;36m170.0\u001b[0m\u001b[1;33m,\u001b[0m \u001b[1;36m156.0\u001b[0m\u001b[1;33m]\u001b[0m\u001b[1;33m,\u001b[0m \u001b[1;33m[\u001b[0m\u001b[1;36m245.0\u001b[0m\u001b[1;33m,\u001b[0m \u001b[1;36m208.0\u001b[0m\u001b[1;33m,\u001b[0m \u001b[1;36m201.0\u001b[0m\u001b[1;33m]\u001b[0m\u001b[1;33m,\u001b[0m \u001b[1;33m[\u001b[0m\u001b[1;36m246.0\u001b[0m\u001b[1;33m,\u001b[0m \u001b[1;36m219.0\u001b[0m\u001b[1;33m,\u001b[0m \u001b[1;36m213.0\u001b[0m\u001b[1;33m]\u001b[0m\u001b[1;33m,\u001b[0m \u001b[1;33m[\u001b[0m\u001b[1;36m245.0\u001b[0m\u001b[1;33m,\u001b[0m \u001b[1;36m213.0\u001b[0m\u001b[1;33m,\u001b[0m \u001b[1;36m207.0\u001b[0m\u001b[1;33m]\u001b[0m\u001b[1;33m,\u001b[0m \u001b[1;33m[\u001b[0m\u001b[1;36m223.0\u001b[0m\u001b[1;33m,\u001b[0m \u001b[1;36m190.0\u001b[0m\u001b[1;33m,\u001b[0m \u001b[1;36m177.0\u001b[0m\u001b[1;33m]\u001b[0m\u001b[1;33m,\u001b[0m \u001b[1;33m[\u001b[0m\u001b[1;36m214.0\u001b[0m\u001b[1;33m,\u001b[0m \u001b[1;36m181.0\u001b[0m\u001b[1;33m,\u001b[0m \u001b[1;36m167.0\u001b[0m\u001b[1;33m]\u001b[0m\u001b[1;33m,\u001b[0m \u001b[1;33m[\u001b[0m\u001b[1;36m232.0\u001b[0m\u001b[1;33m,\u001b[0m \u001b[1;36m201.0\u001b[0m\u001b[1;33m,\u001b[0m \u001b[1;36m190.0\u001b[0m\u001b[1;33m]\u001b[0m\u001b[1;33m]\u001b[0m\u001b[1;33m,\u001b[0m\u001b[1;33m\u001b[0m\u001b[0m\n\u001b[1;32m----> 6\u001b[1;33m         \u001b[1;33m[\u001b[0m\u001b[1;33m[\u001b[0m\u001b[1;36m221.0\u001b[0m\u001b[1;33m,\u001b[0m \u001b[1;36m188.0\u001b[0m\u001b[1;33m,\u001b[0m \u001b[1;36m189.0\u001b[0m\u001b[1;33m]\u001b[0m\u001b[1;33m,\u001b[0m \u001b[1;33m[\u001b[0m\u001b[1;36m226.0\u001b[0m\u001b[1;33m,\u001b[0m \u001b[1;36m192.0\u001b[0m\u001b[1;33m,\u001b[0m \u001b[1;36m201.0\u001b[0m\u001b[1;33m]\u001b[0m\u001b[1;33m,\u001b[0m \u001b[1;33m[\u001b[0m\u001b[1;36m209.0\u001b[0m\u001b[1;33m,\u001b[0m \u001b[1;36m177.0\u001b[0m\u001b[1;33m,\u001b[0m \u001b[1;36m183.0\u001b[0m\u001b[1;33m]\u001b[0m\u001b[1;33m,\u001b[0m \u001b[1;33m[\u001b[0m\u001b[1;36m253.0\u001b[0m\u001b[1;33m,\u001b[0m \u001b[1;36m222.0\u001b[0m\u001b[1;33m,\u001b[0m \u001b[1;36m204.0\u001b[0m\u001b[1;33m]\u001b[0m\u001b[1;33m,\u001b[0m \u001b[1;33m[\u001b[0m\u001b[1;36m249.0\u001b[0m\u001b[1;33m,\u001b[0m \u001b[1;36m216.0\u001b[0m\u001b[1;33m,\u001b[0m \u001b[1;36m200.0\u001b[0m\u001b[1;33m]\u001b[0m\u001b[1;33m,\u001b[0m \u001b[1;33m[\u001b[0m\u001b[1;36m254.0\u001b[0m\u001b[1;33m,\u001b[0m \u001b[1;36m224.0\u001b[0m\u001b[1;33m,\u001b[0m \u001b[1;36m212.0\u001b[0m\u001b[1;33m]\u001b[0m\u001b[1;33m,\u001b[0m \u001b[1;33m[\u001b[0m\u001b[1;36m247.0\u001b[0m\u001b[1;33m,\u001b[0m \u001b[1;36m227.0\u001b[0m\u001b[1;33m,\u001b[0m \u001b[1;36m221.0\u001b[0m\u001b[1;33m]\u001b[0m\u001b[1;33m,\u001b[0m \u001b[1;33m[\u001b[0m\u001b[1;36m240.0\u001b[0m\u001b[1;33m,\u001b[0m \u001b[1;36m215.0\u001b[0m\u001b[1;33m,\u001b[0m \u001b[1;36m207.0\u001b[0m\u001b[1;33m]\u001b[0m\u001b[1;33m,\u001b[0m \u001b[1;33m[\u001b[0m\u001b[1;36m230.0\u001b[0m\u001b[1;33m,\u001b[0m \u001b[1;36m202.0\u001b[0m\u001b[1;33m,\u001b[0m \u001b[1;36m191.0\u001b[0m\u001b[1;33m]\u001b[0m\u001b[1;33m,\u001b[0m \u001b[1;33m[\u001b[0m\u001b[1;36m232.0\u001b[0m\u001b[1;33m,\u001b[0m \u001b[1;36m206.0\u001b[0m\u001b[1;33m,\u001b[0m \u001b[1;36m193.0\u001b[0m\u001b[1;33m]\u001b[0m\u001b[1;33m,\u001b[0m \u001b[1;33m[\u001b[0m\u001b[1;36m225.0\u001b[0m\u001b[1;33m,\u001b[0m \u001b[1;36m198.0\u001b[0m\u001b[1;33m,\u001b[0m \u001b[1;36m186.0\u001b[0m\u001b[1;33m]\u001b[0m\u001b[1;33m,\u001b[0m \u001b[1;33m[\u001b[0m\u001b[1;36m195.0\u001b[0m\u001b[1;33m,\u001b[0m \u001b[1;36m169.0\u001b[0m\u001b[1;33m,\u001b[0m \u001b[1;36m157.0\u001b[0m\u001b[1;33m]\u001b[0m\u001b[1;33m,\u001b[0m \u001b[1;33m[\u001b[0m\u001b[1;36m232.0\u001b[0m\u001b[1;33m,\u001b[0m \u001b[1;36m210.0\u001b[0m\u001b[1;33m,\u001b[0m \u001b[1;36m212.0\u001b[0m\u001b[1;33m]\u001b[0m\u001b[1;33m,\u001b[0m \u001b[1;33m[\u001b[0m\u001b[1;36m235.0\u001b[0m\u001b[1;33m,\u001b[0m \u001b[1;36m214.0\u001b[0m\u001b[1;33m,\u001b[0m \u001b[1;36m216.0\u001b[0m\u001b[1;33m]\u001b[0m\u001b[1;33m,\u001b[0m \u001b[1;33m[\u001b[0m\u001b[1;36m230.0\u001b[0m\u001b[1;33m,\u001b[0m \u001b[1;36m206.0\u001b[0m\u001b[1;33m,\u001b[0m \u001b[1;36m206.0\u001b[0m\u001b[1;33m]\u001b[0m\u001b[1;33m,\u001b[0m \u001b[1;33m[\u001b[0m\u001b[1;36m245.0\u001b[0m\u001b[1;33m,\u001b[0m \u001b[1;36m231.0\u001b[0m\u001b[1;33m,\u001b[0m \u001b[1;36m237.0\u001b[0m\u001b[1;33m]\u001b[0m\u001b[1;33m,\u001b[0m \u001b[1;33m[\u001b[0m\u001b[1;36m241.0\u001b[0m\u001b[1;33m,\u001b[0m \u001b[1;36m220.0\u001b[0m\u001b[1;33m,\u001b[0m \u001b[1;36m225.0\u001b[0m\u001b[1;33m]\u001b[0m\u001b[1;33m,\u001b[0m \u001b[1;33m[\u001b[0m\u001b[1;36m234.0\u001b[0m\u001b[1;33m,\u001b[0m \u001b[1;36m208.0\u001b[0m\u001b[1;33m,\u001b[0m \u001b[1;36m213.0\u001b[0m\u001b[1;33m]\u001b[0m\u001b[1;33m,\u001b[0m \u001b[1;33m[\u001b[0m\u001b[1;36m176.0\u001b[0m\u001b[1;33m,\u001b[0m \u001b[1;36m126.0\u001b[0m\u001b[1;33m,\u001b[0m \u001b[1;36m110.0\u001b[0m\u001b[1;33m]\u001b[0m\u001b[1;33m,\u001b[0m \u001b[1;33m[\u001b[0m\u001b[1;36m191.0\u001b[0m\u001b[1;33m,\u001b[0m \u001b[1;36m143.0\u001b[0m\u001b[1;33m,\u001b[0m \u001b[1;36m129.0\u001b[0m\u001b[1;33m]\u001b[0m\u001b[1;33m,\u001b[0m \u001b[1;33m[\u001b[0m\u001b[1;36m155.0\u001b[0m\u001b[1;33m,\u001b[0m \u001b[1;36m106.0\u001b[0m\u001b[1;33m,\u001b[0m \u001b[1;36m85.0\u001b[0m\u001b[1;33m]\u001b[0m\u001b[1;33m,\u001b[0m \u001b[1;33m[\u001b[0m\u001b[1;36m245.0\u001b[0m\u001b[1;33m,\u001b[0m \u001b[1;36m219.0\u001b[0m\u001b[1;33m,\u001b[0m \u001b[1;36m217.0\u001b[0m\u001b[1;33m]\u001b[0m\u001b[1;33m,\u001b[0m \u001b[1;33m[\u001b[0m\u001b[1;36m246.0\u001b[0m\u001b[1;33m,\u001b[0m \u001b[1;36m225.0\u001b[0m\u001b[1;33m,\u001b[0m \u001b[1;36m224.0\u001b[0m\u001b[1;33m]\u001b[0m\u001b[1;33m,\u001b[0m \u001b[1;33m[\u001b[0m\u001b[1;36m244.0\u001b[0m\u001b[1;33m,\u001b[0m \u001b[1;36m211.0\u001b[0m\u001b[1;33m,\u001b[0m \u001b[1;36m211.0\u001b[0m\u001b[1;33m]\u001b[0m\u001b[1;33m,\u001b[0m \u001b[1;33m[\u001b[0m\u001b[1;36m240.0\u001b[0m\u001b[1;33m,\u001b[0m \u001b[1;36m208.0\u001b[0m\u001b[1;33m,\u001b[0m \u001b[1;36m202.0\u001b[0m\u001b[1;33m]\u001b[0m\u001b[1;33m,\u001b[0m \u001b[1;33m[\u001b[0m\u001b[1;36m241.0\u001b[0m\u001b[1;33m,\u001b[0m \u001b[1;36m199.0\u001b[0m\u001b[1;33m,\u001b[0m \u001b[1;36m196.0\u001b[0m\u001b[1;33m]\u001b[0m\u001b[1;33m,\u001b[0m \u001b[1;33m[\u001b[0m\u001b[1;36m235.0\u001b[0m\u001b[1;33m,\u001b[0m \u001b[1;36m194.0\u001b[0m\u001b[1;33m,\u001b[0m \u001b[1;36m190.0\u001b[0m\u001b[1;33m]\u001b[0m\u001b[1;33m,\u001b[0m \u001b[1;33m[\u001b[0m\u001b[1;36m203.0\u001b[0m\u001b[1;33m,\u001b[0m \u001b[1;36m188.0\u001b[0m\u001b[1;33m,\u001b[0m \u001b[1;36m213.0\u001b[0m\u001b[1;33m]\u001b[0m\u001b[1;33m,\u001b[0m \u001b[1;33m[\u001b[0m\u001b[1;36m207.0\u001b[0m\u001b[1;33m,\u001b[0m \u001b[1;36m194.0\u001b[0m\u001b[1;33m,\u001b[0m \u001b[1;36m217.0\u001b[0m\u001b[1;33m]\u001b[0m\u001b[1;33m,\u001b[0m \u001b[1;33m[\u001b[0m\u001b[1;36m199.0\u001b[0m\u001b[1;33m,\u001b[0m \u001b[1;36m178.0\u001b[0m\u001b[1;33m,\u001b[0m \u001b[1;36m209.0\u001b[0m\u001b[1;33m]\u001b[0m\u001b[1;33m,\u001b[0m \u001b[1;33m[\u001b[0m\u001b[1;36m239.0\u001b[0m\u001b[1;33m,\u001b[0m \u001b[1;36m209.0\u001b[0m\u001b[1;33m,\u001b[0m \u001b[1;36m210.0\u001b[0m\u001b[1;33m]\u001b[0m\u001b[1;33m,\u001b[0m \u001b[1;33m[\u001b[0m\u001b[1;36m251.0\u001b[0m\u001b[1;33m,\u001b[0m \u001b[1;36m226.0\u001b[0m\u001b[1;33m,\u001b[0m \u001b[1;36m230.0\u001b[0m\u001b[1;33m]\u001b[0m\u001b[1;33m,\u001b[0m \u001b[1;33m[\u001b[0m\u001b[1;36m223.0\u001b[0m\u001b[1;33m,\u001b[0m \u001b[1;36m193.0\u001b[0m\u001b[1;33m,\u001b[0m \u001b[1;36m193.0\u001b[0m\u001b[1;33m]\u001b[0m\u001b[1;33m,\u001b[0m \u001b[1;33m[\u001b[0m\u001b[1;36m181.0\u001b[0m\u001b[1;33m,\u001b[0m \u001b[1;36m155.0\u001b[0m\u001b[1;33m,\u001b[0m \u001b[1;36m145.0\u001b[0m\u001b[1;33m]\u001b[0m\u001b[1;33m,\u001b[0m \u001b[1;33m[\u001b[0m\u001b[1;36m202.0\u001b[0m\u001b[1;33m,\u001b[0m \u001b[1;36m173.0\u001b[0m\u001b[1;33m,\u001b[0m \u001b[1;36m163.0\u001b[0m\u001b[1;33m]\u001b[0m\u001b[1;33m,\u001b[0m \u001b[1;33m[\u001b[0m\u001b[1;36m160.0\u001b[0m\u001b[1;33m,\u001b[0m \u001b[1;36m137.0\u001b[0m\u001b[1;33m,\u001b[0m \u001b[1;36m130.0\u001b[0m\u001b[1;33m]\u001b[0m\u001b[1;33m,\u001b[0m \u001b[1;33m[\u001b[0m\u001b[1;36m233.0\u001b[0m\u001b[1;33m,\u001b[0m \u001b[1;36m198.0\u001b[0m\u001b[1;33m,\u001b[0m \u001b[1;36m175.0\u001b[0m\u001b[1;33m]\u001b[0m\u001b[1;33m,\u001b[0m \u001b[1;33m[\u001b[0m\u001b[1;36m237.0\u001b[0m\u001b[1;33m,\u001b[0m \u001b[1;36m204.0\u001b[0m\u001b[1;33m,\u001b[0m \u001b[1;36m185.0\u001b[0m\u001b[1;33m]\u001b[0m\u001b[1;33m,\u001b[0m \u001b[1;33m[\u001b[0m\u001b[1;36m239.0\u001b[0m\u001b[1;33m,\u001b[0m \u001b[1;36m211.0\u001b[0m\u001b[1;33m,\u001b[0m \u001b[1;36m195.0\u001b[0m\u001b[1;33m]\u001b[0m\u001b[1;33m,\u001b[0m \u001b[1;33m[\u001b[0m\u001b[1;36m181.0\u001b[0m\u001b[1;33m,\u001b[0m \u001b[1;36m141.0\u001b[0m\u001b[1;33m,\u001b[0m \u001b[1;36m122.0\u001b[0m\u001b[1;33m]\u001b[0m\u001b[1;33m,\u001b[0m \u001b[1;33m[\u001b[0m\u001b[1;36m171.0\u001b[0m\u001b[1;33m,\u001b[0m \u001b[1;36m132.0\u001b[0m\u001b[1;33m,\u001b[0m \u001b[1;36m110.0\u001b[0m\u001b[1;33m]\u001b[0m\u001b[1;33m,\u001b[0m \u001b[1;33m[\u001b[0m\u001b[1;36m191.0\u001b[0m\u001b[1;33m,\u001b[0m \u001b[1;36m152.0\u001b[0m\u001b[1;33m,\u001b[0m \u001b[1;36m134.0\u001b[0m\u001b[1;33m]\u001b[0m\u001b[1;33m,\u001b[0m \u001b[1;33m[\u001b[0m\u001b[1;36m214.0\u001b[0m\u001b[1;33m,\u001b[0m \u001b[1;36m182.0\u001b[0m\u001b[1;33m,\u001b[0m \u001b[1;36m186.0\u001b[0m\u001b[1;33m]\u001b[0m\u001b[1;33m,\u001b[0m \u001b[1;33m[\u001b[0m\u001b[1;36m190.0\u001b[0m\u001b[1;33m,\u001b[0m \u001b[1;36m155.0\u001b[0m\u001b[1;33m,\u001b[0m \u001b[1;36m155.0\u001b[0m\u001b[1;33m]\u001b[0m\u001b[1;33m,\u001b[0m \u001b[1;33m[\u001b[0m\u001b[1;36m178.0\u001b[0m\u001b[1;33m,\u001b[0m \u001b[1;36m144.0\u001b[0m\u001b[1;33m,\u001b[0m \u001b[1;36m138.0\u001b[0m\u001b[1;33m]\u001b[0m\u001b[1;33m,\u001b[0m \u001b[1;33m[\u001b[0m\u001b[1;36m234.0\u001b[0m\u001b[1;33m,\u001b[0m \u001b[1;36m181.0\u001b[0m\u001b[1;33m,\u001b[0m \u001b[1;36m160.0\u001b[0m\u001b[1;33m]\u001b[0m\u001b[1;33m,\u001b[0m \u001b[1;33m[\u001b[0m\u001b[1;36m241.0\u001b[0m\u001b[1;33m,\u001b[0m \u001b[1;36m193.0\u001b[0m\u001b[1;33m,\u001b[0m \u001b[1;36m176.0\u001b[0m\u001b[1;33m]\u001b[0m\u001b[1;33m,\u001b[0m \u001b[1;33m[\u001b[0m\u001b[1;36m219.0\u001b[0m\u001b[1;33m,\u001b[0m \u001b[1;36m159.0\u001b[0m\u001b[1;33m,\u001b[0m \u001b[1;36m136.0\u001b[0m\u001b[1;33m]\u001b[0m\u001b[1;33m,\u001b[0m \u001b[1;33m[\u001b[0m\u001b[1;36m243.0\u001b[0m\u001b[1;33m,\u001b[0m \u001b[1;36m222.0\u001b[0m\u001b[1;33m,\u001b[0m \u001b[1;36m221.0\u001b[0m\u001b[1;33m]\u001b[0m\u001b[1;33m,\u001b[0m \u001b[1;33m[\u001b[0m\u001b[1;36m241.0\u001b[0m\u001b[1;33m,\u001b[0m \u001b[1;36m218.0\u001b[0m\u001b[1;33m,\u001b[0m \u001b[1;36m216.0\u001b[0m\u001b[1;33m]\u001b[0m\u001b[1;33m,\u001b[0m \u001b[1;33m[\u001b[0m\u001b[1;36m238.0\u001b[0m\u001b[1;33m,\u001b[0m \u001b[1;36m211.0\u001b[0m\u001b[1;33m,\u001b[0m \u001b[1;36m211.0\u001b[0m\u001b[1;33m]\u001b[0m\u001b[1;33m,\u001b[0m \u001b[1;33m[\u001b[0m\u001b[1;36m242.0\u001b[0m\u001b[1;33m,\u001b[0m \u001b[1;36m225.0\u001b[0m\u001b[1;33m,\u001b[0m \u001b[1;36m230.0\u001b[0m\u001b[1;33m]\u001b[0m\u001b[1;33m,\u001b[0m \u001b[1;33m[\u001b[0m\u001b[1;36m233.0\u001b[0m\u001b[1;33m,\u001b[0m \u001b[1;36m208.0\u001b[0m\u001b[1;33m,\u001b[0m \u001b[1;36m215.0\u001b[0m\u001b[1;33m]\u001b[0m\u001b[1;33m,\u001b[0m \u001b[1;33m[\u001b[0m\u001b[1;36m221.0\u001b[0m\u001b[1;33m,\u001b[0m \u001b[1;36m192.0\u001b[0m\u001b[1;33m,\u001b[0m \u001b[1;36m199.0\u001b[0m\u001b[1;33m]\u001b[0m\u001b[1;33m,\u001b[0m \u001b[1;33m[\u001b[0m\u001b[1;36m221.0\u001b[0m\u001b[1;33m,\u001b[0m \u001b[1;36m193.0\u001b[0m\u001b[1;33m,\u001b[0m \u001b[1;36m187.0\u001b[0m\u001b[1;33m]\u001b[0m\u001b[1;33m,\u001b[0m \u001b[1;33m[\u001b[0m\u001b[1;36m228.0\u001b[0m\u001b[1;33m,\u001b[0m \u001b[1;36m203.0\u001b[0m\u001b[1;33m,\u001b[0m \u001b[1;36m198.0\u001b[0m\u001b[1;33m]\u001b[0m\u001b[1;33m,\u001b[0m \u001b[1;33m[\u001b[0m\u001b[1;36m231.0\u001b[0m\u001b[1;33m,\u001b[0m \u001b[1;36m213.0\u001b[0m\u001b[1;33m,\u001b[0m \u001b[1;36m211.0\u001b[0m\u001b[1;33m]\u001b[0m\u001b[1;33m,\u001b[0m \u001b[1;33m[\u001b[0m\u001b[1;36m254.0\u001b[0m\u001b[1;33m,\u001b[0m \u001b[1;36m240.0\u001b[0m\u001b[1;33m,\u001b[0m \u001b[1;36m248.0\u001b[0m\u001b[1;33m]\u001b[0m\u001b[1;33m,\u001b[0m \u001b[1;33m[\u001b[0m\u001b[1;36m253.0\u001b[0m\u001b[1;33m,\u001b[0m \u001b[1;36m232.0\u001b[0m\u001b[1;33m,\u001b[0m \u001b[1;36m239.0\u001b[0m\u001b[1;33m]\u001b[0m\u001b[1;33m,\u001b[0m \u001b[1;33m[\u001b[0m\u001b[1;36m251.0\u001b[0m\u001b[1;33m,\u001b[0m \u001b[1;36m225.0\u001b[0m\u001b[1;33m,\u001b[0m \u001b[1;36m230.0\u001b[0m\u001b[1;33m]\u001b[0m\u001b[1;33m,\u001b[0m \u001b[1;33m[\u001b[0m\u001b[1;36m221.0\u001b[0m\u001b[1;33m,\u001b[0m \u001b[1;36m194.0\u001b[0m\u001b[1;33m,\u001b[0m \u001b[1;36m183.0\u001b[0m\u001b[1;33m]\u001b[0m\u001b[1;33m,\u001b[0m \u001b[1;33m[\u001b[0m\u001b[1;36m214.0\u001b[0m\u001b[1;33m,\u001b[0m \u001b[1;36m187.0\u001b[0m\u001b[1;33m,\u001b[0m \u001b[1;36m174.0\u001b[0m\u001b[1;33m]\u001b[0m\u001b[1;33m,\u001b[0m \u001b[1;33m[\u001b[0m\u001b[1;36m206.0\u001b[0m\u001b[1;33m,\u001b[0m \u001b[1;36m178.0\u001b[0m\u001b[1;33m,\u001b[0m \u001b[1;36m166.0\u001b[0m\u001b[1;33m]\u001b[0m\u001b[1;33m,\u001b[0m \u001b[1;33m[\u001b[0m\u001b[1;36m230.0\u001b[0m\u001b[1;33m,\u001b[0m \u001b[1;36m218.0\u001b[0m\u001b[1;33m,\u001b[0m \u001b[1;36m221.0\u001b[0m\u001b[1;33m]\u001b[0m\u001b[1;33m,\u001b[0m \u001b[1;33m[\u001b[0m\u001b[1;36m231.0\u001b[0m\u001b[1;33m,\u001b[0m \u001b[1;36m214.0\u001b[0m\u001b[1;33m,\u001b[0m \u001b[1;36m214.0\u001b[0m\u001b[1;33m]\u001b[0m\u001b[1;33m,\u001b[0m \u001b[1;33m[\u001b[0m\u001b[1;36m225.0\u001b[0m\u001b[1;33m,\u001b[0m \u001b[1;36m210.0\u001b[0m\u001b[1;33m,\u001b[0m \u001b[1;36m213.0\u001b[0m\u001b[1;33m]\u001b[0m\u001b[1;33m,\u001b[0m \u001b[1;33m[\u001b[0m\u001b[1;36m212.0\u001b[0m\u001b[1;33m,\u001b[0m \u001b[1;36m196.0\u001b[0m\u001b[1;33m,\u001b[0m \u001b[1;36m193.0\u001b[0m\u001b[1;33m]\u001b[0m\u001b[1;33m,\u001b[0m \u001b[1;33m[\u001b[0m\u001b[1;36m210.0\u001b[0m\u001b[1;33m,\u001b[0m \u001b[1;36m192.0\u001b[0m\u001b[1;33m,\u001b[0m \u001b[1;36m186.0\u001b[0m\u001b[1;33m]\u001b[0m\u001b[1;33m,\u001b[0m \u001b[1;33m[\u001b[0m\u001b[1;36m206.0\u001b[0m\u001b[1;33m,\u001b[0m \u001b[1;36m187.0\u001b[0m\u001b[1;33m,\u001b[0m \u001b[1;36m180.0\u001b[0m\u001b[1;33m]\u001b[0m\u001b[1;33m,\u001b[0m \u001b[1;33m[\u001b[0m\u001b[1;36m212.0\u001b[0m\u001b[1;33m,\u001b[0m \u001b[1;36m156.0\u001b[0m\u001b[1;33m,\u001b[0m \u001b[1;36m137.0\u001b[0m\u001b[1;33m]\u001b[0m\u001b[1;33m,\u001b[0m \u001b[1;33m[\u001b[0m\u001b[1;36m220.0\u001b[0m\u001b[1;33m,\u001b[0m \u001b[1;36m171.0\u001b[0m\u001b[1;33m,\u001b[0m \u001b[1;36m157.0\u001b[0m\u001b[1;33m]\u001b[0m\u001b[1;33m,\u001b[0m \u001b[1;33m[\u001b[0m\u001b[1;36m195.0\u001b[0m\u001b[1;33m,\u001b[0m \u001b[1;36m146.0\u001b[0m\u001b[1;33m,\u001b[0m \u001b[1;36m129.0\u001b[0m\u001b[1;33m]\u001b[0m\u001b[1;33m,\u001b[0m \u001b[1;33m[\u001b[0m\u001b[1;36m235.0\u001b[0m\u001b[1;33m,\u001b[0m \u001b[1;36m213.0\u001b[0m\u001b[1;33m,\u001b[0m \u001b[1;36m207.0\u001b[0m\u001b[1;33m]\u001b[0m\u001b[1;33m,\u001b[0m \u001b[1;33m[\u001b[0m\u001b[1;36m231.0\u001b[0m\u001b[1;33m,\u001b[0m \u001b[1;36m204.0\u001b[0m\u001b[1;33m,\u001b[0m \u001b[1;36m198.0\u001b[0m\u001b[1;33m]\u001b[0m\u001b[1;33m,\u001b[0m \u001b[1;33m[\u001b[0m\u001b[1;36m224.0\u001b[0m\u001b[1;33m,\u001b[0m \u001b[1;36m196.0\u001b[0m\u001b[1;33m,\u001b[0m \u001b[1;36m189.0\u001b[0m\u001b[1;33m]\u001b[0m\u001b[1;33m]\u001b[0m\u001b[1;33m\u001b[0m\u001b[0m\n\u001b[0m\u001b[0;32m      7\u001b[0m         )\n\u001b[0;32m      8\u001b[0m \u001b[0my\u001b[0m \u001b[1;33m=\u001b[0m \u001b[0mnp\u001b[0m\u001b[1;33m.\u001b[0m\u001b[0marray\u001b[0m\u001b[1;33m(\u001b[0m\u001b[1;33m[\u001b[0m\u001b[1;34m'spring'\u001b[0m\u001b[1;33m,\u001b[0m \u001b[1;34m'summer'\u001b[0m\u001b[1;33m,\u001b[0m \u001b[1;34m'fall'\u001b[0m\u001b[1;33m,\u001b[0m \u001b[1;34m'winter'\u001b[0m\u001b[1;33m]\u001b[0m\u001b[1;33m)\u001b[0m\u001b[1;33m\u001b[0m\u001b[0m\n",
      "\u001b[1;31mValueError\u001b[0m: only 2 non-keyword arguments accepted"
     ]
    }
   ],
   "source": [
    "#skin\n",
    "X = np.array([\n",
    "        [[241.0, 211.0, 193.0], [233.0, 198.0, 177.0], [224.0, 182.0, 161.0], [236.0, 210.0, 194.0], [237.0, 204.0, 186.0], [237.0, 196.0, 177.0], [217.0, 187.0, 186.0], [214.0, 181.0, 179.0], [209.0, 176.0, 172.0], [243.0, 202.0, 202.0], [238.0, 193.0, 188.0], [226.0, 179.0, 174.0], [214.0, 192.0, 165.0], [211.0, 187.0, 157.0], [213.0, 184.0, 145.0], [247.0, 210.0, 194.0], [239.0, 199.0, 185.0], [207.0, 171.0, 163.0], [238.0, 212.0, 210.0], [236.0, 205.0, 202.0], [233.0, 197.0, 193.0], [240.0, 188.0, 176.0], [247.0, 195.0, 190.0], [225.0, 175.0, 166.0], [232.0, 206.0, 198.0], [227.0, 201.0, 192.0], [224.0, 196.0, 185.0], [221.0, 190.0, 173.0], [221.0, 197.0, 186.0], [183.0, 186.0, 185.0], [236.0, 231.0, 226.0], [232.0, 221.0, 214.0], [223.0, 211.0, 203.0], [243.0, 227.0, 218.0], [239.0, 208.0, 191.0], [225.0, 184.0, 163.0], [209.0, 180.0, 166.0], [214.0, 187.0, 175.0], [193.0, 164.0, 150.0], [202.0, 175.0, 167.0], [163.0, 150.0, 155.0], [115.0, 75.0, 71.0], [221.0, 172.0, 164.0], [226.0, 175.0, 168.0], [222.0, 175.0, 157.0], [248.0, 212.0, 215.0], [239.0, 199.0, 201.0], [230.0, 188.0, 189.0], [244.0, 222.0, 201.0], [237.0, 213.0, 189.0], [224.0, 198.0, 174.0], [245.0, 217.0, 215.0], [234.0, 204.0, 201.0], [221.0, 189.0, 187.0], [241.0, 225.0, 217.0], [238.0, 221.0, 213.0], [239.0, 227.0, 222.0], [237.0, 200.0, 187.0], [223.0, 178.0, 163.0], [185.0, 142.0, 126.0], [238.0, 209.0, 211.0], [230.0, 196.0, 199.0], [220.0, 183.0, 183.0], [242.0, 199.0, 191.0], [242.0, 196.0, 187.0], [239.0, 194.0, 183.0], [225.0, 191.0, 174.0], [217.0, 176.0, 159.0], [236.0, 208.0, 188.0], [225.0, 193.0, 183.0], [215.0, 183.0, 174.0], [149.0, 110.0, 105.0], [250.0, 220.0, 215.0], [247.0, 213.0, 206.0], [246.0, 204.0, 196.0]],\n",
    "        [[230.0, 190.0, 162.0], [213.0, 173.0, 145.0], [194.0, 154.0, 125.0], [220.0, 203.0, 215.0], [209.0, 190.0, 207.0], [228.0, 215.0, 229.0], [198.0, 181.0, 174.0], [210.0, 188.0, 183.0], [184.0, 167.0, 160.0], [223.0, 197.0, 180.0], [237.0, 216.0, 202.0], [230.0, 205.0, 189.0], [223.0, 194.0, 189.0], [229.0, 205.0, 202.0], [211.0, 178.0, 173.0], [234.0, 210.0, 223.0], [223.0, 198.0, 210.0], [246.0, 226.0, 243.0], [212.0, 183.0, 185.0], [227.0, 201.0, 205.0], [198.0, 173.0, 174.0], [242.0, 230.0, 231.0], [241.0, 225.0, 227.0], [238.0, 220.0, 220.0], [223.0, 209.0, 205.0], [80.0, 69.0, 81.0], [199.0, 180.0, 175.0], [232.0, 207.0, 214.0], [232.0, 211.0, 215.0], [229.0, 203.0, 209.0], [200.0, 177.0, 186.0], [210.0, 187.0, 198.0], [188.0, 165.0, 170.0], [231.0, 215.0, 218.0], [227.0, 209.0, 210.0], [219.0, 197.0, 198.0], [232.0, 208.0, 212.0], [236.0, 215.0, 219.0], [225.0, 196.0, 198.0], [198.0, 181.0, 174.0], [210.0, 188.0, 183.0], [185.0, 168.0, 161.0], [223.0, 189.0, 187.0], [215.0, 185.0, 182.0], [215.0, 173.0, 177.0], [237.0, 204.0, 208.0], [231.0, 200.0, 201.0], [242.0, 211.0, 215.0], [254.0, 223.0, 211.0], [252.0, 213.0, 199.0], [244.0, 203.0, 188.0], [245.0, 217.0, 213.0], [244.0, 209.0, 200.0], [247.0, 225.0, 222.0], [219.0, 186.0, 173.0], [227.0, 197.0, 189.0], [235.0, 207.0, 202.0], [237.0, 217.0, 212.0], [233.0, 208.0, 202.0], [225.0, 197.0, 189.0], [228.0, 204.0, 192.0], [148.0, 113.0, 99.0], [163.0, 128.0, 113.0], [239.0, 217.0, 218.0], [231.0, 202.0, 201.0], [215.0, 186.0, 180.0], [214.0, 188.0, 192.0], [219.0, 199.0, 206.0], [201.0, 172.0, 176.0], [231.0, 215.0, 224.0], [222.0, 199.0, 204.0], [217.0, 191.0, 195.0], [251.0, 242.0, 239.0], [243.0, 230.0, 229.0], [232.0, 219.0, 216.0]],\n",
    "        [[236.0, 215.0, 204.0], [230.0, 201.0, 190.0], [242.0, 224.0, 216.0], [240.0, 211.0, 197.0], [222.0, 185.0, 166.0], [192.0, 148.0, 127.0], [238.0, 210.0, 196.0], [228.0, 199.0, 181.0], [214.0, 183.0, 163.0], [247.0, 227.0, 212.0], [243.0, 214.0, 194.0], [240.0, 202.0, 176.0], [222.0, 184.0, 166.0], [221.0, 180.0, 158.0], [226.0, 188.0, 173.0], [233.0, 196.0, 175.0], [226.0, 187.0, 165.0], [219.0, 177.0, 155.0], [232.0, 202.0, 192.0], [238.0, 219.0, 210.0], [210.0, 158.0, 146.0], [235.0, 192.0, 192.0], [247.0, 215.0, 214.0], [217.0, 164.0, 164.0], [236.0, 203.0, 187.0], [240.0, 210.0, 195.0], [234.0, 199.0, 180.0], [193.0, 150.0, 131.0], [188.0, 139.0, 117.0], [192.0, 145.0, 124.0], [213.0, 186.0, 170.0], [201.0, 171.0, 153.0], [220.0, 199.0, 186.0], [245.0, 210.0, 183.0], [230.0, 192.0, 163.0], [210.0, 173.0, 146.0], [224.0, 172.0, 132.0], [222.0, 168.0, 128.0], [220.0, 164.0, 122.0], [201.0, 177.0, 171.0], [192.0, 161.0, 152.0], [177.0, 144.0, 133.0], [244.0, 203.0, 179.0], [246.0, 212.0, 195.0], [235.0, 190.0, 165.0], [204.0, 154.0, 131.0], [218.0, 174.0, 155.0], [186.0, 129.0, 104.0], [246.0, 197.0, 179.0], [233.0, 182.0, 162.0], [79.0, 41.0, 20.0], [245.0, 189.0, 166.0], [239.0, 182.0, 156.0], [229.0, 171.0, 145.0], [225.0, 187.0, 163.0], [210.0, 167.0, 143.0], [171.0, 123.0, 102.0], [239.0, 186.0, 149.0], [250.0, 198.0, 164.0], [254.0, 213.0, 186.0], [230.0, 197.0, 182.0], [244.0, 214.0, 205.0], [208.0, 172.0, 159.0], [247.0, 212.0, 191.0], [219.0, 181.0, 160.0], [178.0, 139.0, 117.0], [237.0, 209.0, 203.0], [226.0, 189.0, 178.0], [210.0, 170.0, 156.0], [245.0, 208.0, 201.0], [246.0, 219.0, 213.0], [245.0, 213.0, 207.0], [223.0, 190.0, 177.0], [214.0, 181.0, 167.0], [232.0, 201.0, 190.0]],\n",
    "        [[221.0, 188.0, 189.0], [226.0, 192.0, 201.0], [209.0, 177.0, 183.0], [253.0, 222.0, 204.0], [249.0, 216.0, 200.0], [254.0, 224.0, 212.0], [247.0, 227.0, 221.0], [240.0, 215.0, 207.0], [230.0, 202.0, 191.0], [232.0, 206.0, 193.0], [225.0, 198.0, 186.0], [195.0, 169.0, 157.0], [232.0, 210.0, 212.0], [235.0, 214.0, 216.0], [230.0, 206.0, 206.0], [245.0, 231.0, 237.0], [241.0, 220.0, 225.0], [234.0, 208.0, 213.0], [176.0, 126.0, 110.0], [191.0, 143.0, 129.0], [155.0, 106.0, 85.0], [245.0, 219.0, 217.0], [246.0, 225.0, 224.0], [244.0, 211.0, 211.0], [240.0, 208.0, 202.0], [241.0, 199.0, 196.0], [235.0, 194.0, 190.0], [203.0, 188.0, 213.0], [207.0, 194.0, 217.0], [199.0, 178.0, 209.0], [239.0, 209.0, 210.0], [251.0, 226.0, 230.0], [223.0, 193.0, 193.0], [181.0, 155.0, 145.0], [202.0, 173.0, 163.0], [160.0, 137.0, 130.0], [233.0, 198.0, 175.0], [237.0, 204.0, 185.0], [239.0, 211.0, 195.0], [181.0, 141.0, 122.0], [171.0, 132.0, 110.0], [191.0, 152.0, 134.0], [214.0, 182.0, 186.0], [190.0, 155.0, 155.0], [178.0, 144.0, 138.0], [234.0, 181.0, 160.0], [241.0, 193.0, 176.0], [219.0, 159.0, 136.0], [243.0, 222.0, 221.0], [241.0, 218.0, 216.0], [238.0, 211.0, 211.0], [242.0, 225.0, 230.0], [233.0, 208.0, 215.0], [221.0, 192.0, 199.0], [221.0, 193.0, 187.0], [228.0, 203.0, 198.0], [231.0, 213.0, 211.0], [254.0, 240.0, 248.0], [253.0, 232.0, 239.0], [251.0, 225.0, 230.0], [221.0, 194.0, 183.0], [214.0, 187.0, 174.0], [206.0, 178.0, 166.0], [230.0, 218.0, 221.0], [231.0, 214.0, 214.0], [225.0, 210.0, 213.0], [212.0, 196.0, 193.0], [210.0, 192.0, 186.0], [206.0, 187.0, 180.0], [212.0, 156.0, 137.0], [220.0, 171.0, 157.0], [195.0, 146.0, 129.0], [235.0, 213.0, 207.0], [231.0, 204.0, 198.0], [224.0, 196.0, 189.0]]\n",
    "        ])\n",
    "y = np.array(['spring', 'summer', 'fall', 'winter'])\n",
    "clf = NearestCentroid()\n",
    "clf.fit(X, y)\n",
    "NearestCentroid(metric='euclidean', shrink_threshold=None)\n",
    "print(clf.predict([[222.5, 201.4, 188.9]]))"
   ]
  },
  {
   "cell_type": "code",
   "execution_count": 12,
   "metadata": {},
   "outputs": [
    {
     "data": {
      "text/plain": [
       "<Figure size 640x480 with 1 Axes>"
      ]
     },
     "metadata": {},
     "output_type": "display_data"
    }
   ],
   "source": [
    "from matplotlib import pyplot\n",
    "from mpl_toolkits.mplot3d import Axes3D\n",
    "import random\n",
    "\n",
    "\n",
    "fig = pyplot.figure()\n",
    "ax = Axes3D(fig)\n",
    "\n",
    "sequence_containing_x_vals = [241.0, 233.0, 224.0, 236.0, 237.0, 237.0, 217.0, 214.0, 209.0, 243.0, 238.0, 226.0, 214.0, 211.0, 213.0, 247.0, 239.0, 207.0, 238.0, 236.0, 233.0, 240.0, 247.0, 225.0, 232.0, 227.0, 224.0, 221.0, 221.0, 183.0, 236.0, 232.0, 223.0, 243.0, 239.0, 225.0, 209.0, 214.0, 193.0, 202.0, 163.0, 115.0, 221.0, 226.0, 222.0, 248.0, 239.0, 230.0, 244.0, 237.0, 224.0, 245.0, 234.0, 221.0, 241.0, 238.0, 239.0, 237.0, 223.0, 185.0, 238.0, 230.0, 220.0, 242.0, 242.0, 239.0, 225.0, 217.0, 236.0, 225.0, 215.0, 149.0, 250.0, 247.0, 246.0]\n",
    "sequence_containing_y_vals = [211.0, 198.0, 182.0, 210.0, 204.0, 196.0, 187.0, 181.0, 176.0, 202.0, 193.0, 179.0, 192.0, 187.0, 184.0, 210.0, 199.0, 171.0, 212.0, 205.0, 197.0, 188.0, 195.0, 175.0, 206.0, 201.0, 196.0, 190.0, 197.0, 186.0, 231.0, 221.0, 211.0, 227.0, 208.0, 184.0, 180.0, 187.0, 164.0, 175.0, 150.0, 75.0, 172.0, 175.0, 175.0, 212.0, 199.0, 188.0, 222.0, 213.0, 198.0, 217.0, 204.0, 189.0, 225.0, 221.0, 227.0, 200.0, 178.0, 142.0, 209.0, 196.0, 183.0, 199.0, 196.0, 194.0, 191.0, 176.0, 208.0, 193.0, 183.0, 110.0, 220.0, 213.0, 204.0]\n",
    "sequence_containing_z_vals = [193.0, 177.0, 161.0, 194.0, 186.0, 177.0, 186.0, 179.0, 172.0, 202.0, 188.0, 174.0, 165.0, 157.0, 145.0, 194.0, 185.0, 163.0, 210.0, 202.0, 193.0, 176.0, 190.0, 166.0, 198.0, 192.0, 185.0, 173.0, 186.0, 185.0, 226.0, 214.0, 203.0, 218.0, 191.0, 163.0, 166.0, 175.0, 150.0, 167.0, 155.0, 71.0, 164.0, 168.0, 157.0, 215.0, 201.0, 189.0, 201.0, 189.0, 174.0, 215.0, 201.0, 187.0, 217.0, 213.0, 222.0, 187.0, 163.0, 126.0, 211.0, 199.0, 183.0, 191.0, 187.0, 183.0, 174.0, 159.0, 188.0, 183.0, 174.0, 105.0, 215.0, 206.0, 196.0]\n",
    "\n",
    "ax.scatter(sequence_containing_x_vals, sequence_containing_y_vals, sequence_containing_z_vals)\n",
    "pyplot.show()"
   ]
  },
  {
   "cell_type": "code",
   "execution_count": null,
   "metadata": {},
   "outputs": [],
   "source": []
  }
 ],
 "metadata": {
  "kernelspec": {
   "display_name": "Python 3",
   "language": "python",
   "name": "python3"
  },
  "language_info": {
   "codemirror_mode": {
    "name": "ipython",
    "version": 3
   },
   "file_extension": ".py",
   "mimetype": "text/x-python",
   "name": "python",
   "nbconvert_exporter": "python",
   "pygments_lexer": "ipython3",
   "version": "3.6.5"
  }
 },
 "nbformat": 4,
 "nbformat_minor": 2
}
